{
  "cells": [
    {
      "cell_type": "markdown",
      "source": [
        "## Gradient Clipping"
      ],
      "metadata": {
        "id": "L2GacgRq14n-"
      }
    },
    {
      "cell_type": "code",
      "source": [
        "optimizer.zero_grad()        \n",
        "loss, hidden = model(data, hidden, targets)\n",
        "loss.backward()\n",
        "\n",
        "clipping_value = 1 \n",
        "torch.nn.utils.clip_grad_norm_(model.parameters(), clipping_value)\n",
        "optimizer.step()"
      ],
      "metadata": {
        "id": "_qZEXTyR13n2"
      },
      "execution_count": null,
      "outputs": []
    },
    {
      "cell_type": "markdown",
      "metadata": {
        "id": "TItJgQMp5p4E",
        "papermill": {
          "duration": 0.035628,
          "end_time": "2020-10-21T08:18:25.340526",
          "exception": false,
          "start_time": "2020-10-21T08:18:25.304898",
          "status": "completed"
        },
        "tags": []
      },
      "source": [
        "## Классификация текстов\n",
        "\n",
        "В этом задании вам предстоит попробовать несколько методов, используемых в задаче классификации, а также понять насколько хорошо модель понимает смысл слов и какие слова в примере влияют на результат."
      ]
    },
    {
      "cell_type": "code",
      "execution_count": 1,
      "metadata": {
        "execution": {
          "iopub.execute_input": "2020-10-21T08:18:25.411114Z",
          "iopub.status.busy": "2020-10-21T08:18:25.410408Z",
          "iopub.status.idle": "2020-10-21T08:18:26.960871Z",
          "shell.execute_reply": "2020-10-21T08:18:26.960266Z"
        },
        "id": "1emhHMhniZMu",
        "papermill": {
          "duration": 1.588287,
          "end_time": "2020-10-21T08:18:26.960994",
          "exception": false,
          "start_time": "2020-10-21T08:18:25.372707",
          "status": "completed"
        },
        "tags": []
      },
      "outputs": [],
      "source": [
        "import pandas as pd\n",
        "import numpy as np\n",
        "import torch\n",
        "\n",
        "from torchtext.legacy import datasets\n",
        "from torchtext.legacy.data import Field, LabelField\n",
        "from torchtext.legacy.data import BucketIterator\n",
        "\n",
        "from torchtext.vocab import Vectors, GloVe\n",
        "\n",
        "import torch.nn as nn\n",
        "import torch.nn.functional as F\n",
        "import torch.optim as optim\n",
        "import random\n",
        "from tqdm.autonotebook import tqdm"
      ]
    },
    {
      "cell_type": "code",
      "source": [
        "SEED = 1234\n",
        "torch.manual_seed(SEED)\n",
        "torch.backends.cudnn.deterministic = True"
      ],
      "metadata": {
        "id": "b06iXpwHcB6A"
      },
      "execution_count": 2,
      "outputs": []
    },
    {
      "cell_type": "code",
      "execution_count": 3,
      "metadata": {
        "execution": {
          "iopub.execute_input": "2020-10-21T08:18:27.114418Z",
          "iopub.status.busy": "2020-10-21T08:18:27.113562Z",
          "iopub.status.idle": "2020-10-21T08:18:27.119827Z",
          "shell.execute_reply": "2020-10-21T08:18:27.120578Z"
        },
        "id": "-VuQ1E10_tX_",
        "papermill": {
          "duration": 0.048684,
          "end_time": "2020-10-21T08:18:27.120718",
          "exception": false,
          "start_time": "2020-10-21T08:18:27.072034",
          "status": "completed"
        },
        "tags": []
      },
      "outputs": [],
      "source": [
        "TEXT = Field(sequential=True, lower=True, include_lengths=True)\n",
        "LABEL = LabelField(dtype=torch.float)\n",
        "\n",
        "train, test = datasets.IMDB.splits(TEXT, LABEL)\n",
        "train, valid = train.split(random_state=random.seed(SEED))\n",
        "\n",
        "TEXT.build_vocab(train)\n",
        "LABEL.build_vocab(train)"
      ]
    },
    {
      "cell_type": "code",
      "execution_count": 4,
      "metadata": {
        "execution": {
          "iopub.execute_input": "2020-10-21T08:19:10.449810Z",
          "iopub.status.busy": "2020-10-21T08:19:10.448833Z",
          "iopub.status.idle": "2020-10-21T08:19:10.458817Z",
          "shell.execute_reply": "2020-10-21T08:19:10.459509Z"
        },
        "id": "bSoBkdcj4roR",
        "papermill": {
          "duration": 0.417621,
          "end_time": "2020-10-21T08:19:10.459685",
          "exception": false,
          "start_time": "2020-10-21T08:19:10.042064",
          "status": "completed"
        },
        "tags": []
      },
      "outputs": [],
      "source": [
        "device = \"cuda\" if torch.cuda.is_available() else \"cpu\"\n",
        "\n",
        "train_iter, valid_iter, test_iter = BucketIterator.splits(\n",
        "        (train, valid, test),\n",
        "        batch_sizes=(128, 256, 256),\n",
        "        sort=False,\n",
        "        sort_key= lambda x: len(x.src),\n",
        "        sort_within_batch=False,\n",
        "        device=device,\n",
        "        repeat=False,\n",
        ")"
      ]
    },
    {
      "cell_type": "markdown",
      "metadata": {
        "id": "3_CRDES360wG",
        "papermill": {
          "duration": 0.042325,
          "end_time": "2020-10-21T08:19:10.544573",
          "exception": false,
          "start_time": "2020-10-21T08:19:10.502248",
          "status": "completed"
        },
        "tags": []
      },
      "source": [
        "## RNN\n",
        "\n",
        "Попробуем применить рекурентные нейронные сети (GRU или LSTM). \n",
        "\n",
        "Для задач классификации используют как hidden_state, так и output последнего токена."
      ]
    },
    {
      "cell_type": "code",
      "execution_count": 5,
      "metadata": {
        "execution": {
          "iopub.execute_input": "2020-10-21T08:19:10.643279Z",
          "iopub.status.busy": "2020-10-21T08:19:10.642518Z",
          "iopub.status.idle": "2020-10-21T08:19:10.646453Z",
          "shell.execute_reply": "2020-10-21T08:19:10.645921Z"
        },
        "id": "J1yE1KPQqDat",
        "papermill": {
          "duration": 0.059869,
          "end_time": "2020-10-21T08:19:10.646570",
          "exception": false,
          "start_time": "2020-10-21T08:19:10.586701",
          "status": "completed"
        },
        "tags": []
      },
      "outputs": [],
      "source": [
        "class RNNBaseline(nn.Module):\n",
        "    def __init__(self, vocab_size, embedding_dim, hidden_dim, output_dim, n_layers, bidirectional, dropout, pad_idx):\n",
        "        \n",
        "        super().__init__()\n",
        "        self.embedding = nn.Embedding(vocab_size, embedding_dim, padding_idx = pad_idx)\n",
        "        self.lstm = nn.LSTM(embedding_dim, hidden_dim, num_layers=n_layers, bidirectional=bidirectional)\n",
        "        self.fc = nn.Linear(hidden_dim*2, output_dim)\n",
        "        self.dropout = nn.Dropout(dropout)\n",
        "        \n",
        "    def forward(self, text, text_lengths):\n",
        "        \n",
        "        # text = [sent_len, batch_size]\n",
        "        embedded = self.embedding(text)\n",
        "        \n",
        "        # embedded = [sent_len, batch_size, emb_dim]\n",
        "        # pack sequence\n",
        "        packed_embedded = nn.utils.rnn.pack_padded_sequence(embedded, text_lengths.cpu(), enforce_sorted=False)\n",
        "        \n",
        "        # LSTM\n",
        "        packed_output, (hidden, cell) = self.lstm(packed_embedded)\n",
        "\n",
        "        # OUTPUT\n",
        "        # output = [sent_len, batch_size, hid_dim * num_directions] \n",
        "        # unpack sequence\n",
        "        output, output_lengths = nn.utils.rnn.pad_packed_sequence(packed_output)\n",
        "        # get last token from output  \n",
        "        # output = [batch_size, hid_dim * num_directions] \n",
        "        output = output[-1]\n",
        "       \n",
        "        # HIDDEN\n",
        "        # hidden = [num_layers * num_directions, batch_size, hid_dim]\n",
        "        # cell = [num_layers * num_directions, batch_size, hid_dim]\n",
        "        # get hidden from two last layers\n",
        "        # hidden = [batch_size, hid_dim * num_layers] \n",
        "        hidden = torch.cat((hidden[-2,:,:], hidden[-1,:,:]), dim=1)\n",
        "            \n",
        "        out_drop = self.dropout(output)\n",
        "        out = self.fc(out_drop)\n",
        "    \n",
        "        return out"
      ]
    },
    {
      "cell_type": "code",
      "execution_count": 6,
      "metadata": {
        "execution": {
          "iopub.execute_input": "2020-10-21T08:19:10.827951Z",
          "iopub.status.busy": "2020-10-21T08:19:10.827141Z",
          "iopub.status.idle": "2020-10-21T08:19:10.831215Z",
          "shell.execute_reply": "2020-10-21T08:19:10.830739Z"
        },
        "id": "ggTiORJ-8t0J",
        "papermill": {
          "duration": 0.057298,
          "end_time": "2020-10-21T08:19:10.831311",
          "exception": false,
          "start_time": "2020-10-21T08:19:10.774013",
          "status": "completed"
        },
        "tags": []
      },
      "outputs": [],
      "source": [
        "vocab_size = len(TEXT.vocab)\n",
        "emb_dim = 100\n",
        "hidden_dim = 256\n",
        "output_dim = 1\n",
        "n_layers = 2\n",
        "bidirectional = True\n",
        "dropout = 0.2\n",
        "PAD_IDX = TEXT.vocab.stoi[TEXT.pad_token]\n",
        "patience=3\n",
        "max_epochs = 1"
      ]
    },
    {
      "cell_type": "code",
      "execution_count": 7,
      "metadata": {
        "execution": {
          "iopub.execute_input": "2020-10-21T08:19:10.933698Z",
          "iopub.status.busy": "2020-10-21T08:19:10.931810Z",
          "iopub.status.idle": "2020-10-21T08:19:11.246717Z",
          "shell.execute_reply": "2020-10-21T08:19:11.246100Z"
        },
        "id": "mIiM_ZBt9_91",
        "papermill": {
          "duration": 0.364223,
          "end_time": "2020-10-21T08:19:11.246837",
          "exception": false,
          "start_time": "2020-10-21T08:19:10.882614",
          "status": "completed"
        },
        "tags": []
      },
      "outputs": [],
      "source": [
        "model = RNNBaseline(\n",
        "    vocab_size=vocab_size,\n",
        "    embedding_dim=emb_dim,\n",
        "    hidden_dim=hidden_dim,\n",
        "    output_dim=output_dim,\n",
        "    n_layers=n_layers,\n",
        "    bidirectional=bidirectional,\n",
        "    dropout=dropout,\n",
        "    pad_idx=PAD_IDX\n",
        ")\n",
        "\n",
        "model = model.to(device)"
      ]
    },
    {
      "cell_type": "code",
      "execution_count": 8,
      "metadata": {
        "execution": {
          "iopub.execute_input": "2020-10-21T08:19:17.618852Z",
          "iopub.status.busy": "2020-10-21T08:19:17.616444Z",
          "iopub.status.idle": "2020-10-21T08:21:48.795592Z",
          "shell.execute_reply": "2020-10-21T08:21:48.796152Z"
        },
        "id": "87dgw6ok9hR0",
        "outputId": "1d0e240c-b899-4424-bb87-cb4b3c9082bb",
        "papermill": {
          "duration": 151.241385,
          "end_time": "2020-10-21T08:21:48.796326",
          "exception": false,
          "start_time": "2020-10-21T08:19:17.554941",
          "status": "completed"
        },
        "tags": [],
        "colab": {
          "base_uri": "https://localhost:8080/",
          "height": 51,
          "referenced_widgets": [
            "a06a2f8be19146c48b151c5c94dd7bda",
            "889cc05ef9794af48222abeb1ee96d9f",
            "4f7934fe671440968c729b850c8a34c3",
            "dea5b4ac0a3648b5b7b38af83408215b",
            "ee6802d532484109a49cf4c150784044",
            "a9bbc71998c1414f96ff43e27d9a66da",
            "57b075ea74bf4811ba699837655926da",
            "d141827023d8483e986be4eb50b2f78f",
            "d4496156815646d5849a60be71c8f600",
            "beabb08850f044f28c186d2d06ff8325",
            "ff63dc96b984408b825756e536e14280",
            "1382fd7deefd4c2cb0ffc06f5ed9b2d0",
            "95ad0e311ee74eaa940fbfb47a564706",
            "605335a802cb44d7876e72facd20c6e5",
            "7852f2e170e444acb2f142ac4a009194",
            "46a97ea91a2b4895a93d06a2f7242f6a",
            "23bf5f7d75ad451daae124bf6ef68aa3",
            "6f9062a5974143bc913e9e34279047fb",
            "745f9f0bf1574228bdb77b9bd4c2bad1",
            "f4461d1f31184134b9efa532a797abbe",
            "309a1297693d42988926cedb1f00f808",
            "12f82d09f33f471580463d859e7f1d7a"
          ]
        }
      },
      "outputs": [
        {
          "output_type": "display_data",
          "data": {
            "text/plain": [
              "  0%|          | 0/137 [00:00<?, ?it/s]"
            ],
            "application/vnd.jupyter.widget-view+json": {
              "version_major": 2,
              "version_minor": 0,
              "model_id": "a06a2f8be19146c48b151c5c94dd7bda"
            }
          },
          "metadata": {}
        },
        {
          "output_type": "display_data",
          "data": {
            "text/plain": [
              "  0%|          | 0/30 [00:00<?, ?it/s]"
            ],
            "application/vnd.jupyter.widget-view+json": {
              "version_major": 2,
              "version_minor": 0,
              "model_id": "1382fd7deefd4c2cb0ffc06f5ed9b2d0"
            }
          },
          "metadata": {}
        },
        {
          "output_type": "stream",
          "name": "stdout",
          "text": [
            "Epoch: 1, Training Loss: 0.6931777861866638, Validation Loss: 0.6944538950920105\n"
          ]
        },
        {
          "output_type": "execute_result",
          "data": {
            "text/plain": [
              "<All keys matched successfully>"
            ]
          },
          "metadata": {},
          "execution_count": 8
        }
      ],
      "source": [
        "import numpy as np\n",
        "\n",
        "optimizer = torch.optim.Adam(model.parameters(), lr=1e-3)\n",
        "loss_func = nn.BCEWithLogitsLoss()\n",
        "min_loss = np.inf\n",
        "\n",
        "cur_patience = 0\n",
        "\n",
        "for epoch in range(1, max_epochs + 1):\n",
        "    train_loss = 0.0\n",
        "    model.train()\n",
        "    pbar = tqdm(enumerate(train_iter), total=len(train_iter), leave=False)\n",
        "    pbar.set_description(f\"Epoch {epoch}\")\n",
        "    for it, batch in pbar: \n",
        "        input_embeds = batch.text[0].to(device)\n",
        "        l = batch.text[1].to(device)\n",
        "        labels = batch.label.to(device)\n",
        "        optimizer.zero_grad()\n",
        "        prediction = model(input_embeds, l)\n",
        "        loss = loss_func(prediction.squeeze(), labels)\n",
        "        loss.backward()\n",
        "        pbar.update(labels.size(0))\n",
        "        optimizer.step()\n",
        "        train_loss += loss.item()\n",
        "\n",
        "    train_loss /= len(train_iter)\n",
        "    val_loss = 0.0\n",
        "    model.eval()\n",
        "    pbar = tqdm(enumerate(valid_iter), total=len(valid_iter), leave=False)\n",
        "    pbar.set_description(f\"Epoch {epoch}\")\n",
        "    val_loss = 0\n",
        "    valid_acc = 0\n",
        "    for it, batch in pbar:\n",
        "        with torch.no_grad():\n",
        "            input_embeds = batch.text[0].to(device)\n",
        "            l = batch.text[1].to(device)\n",
        "            labels = batch.label.to(device)\n",
        "\n",
        "            prediction = model(input_embeds, l)\n",
        "            val_loss += loss_func(prediction.squeeze(), labels)\n",
        "            valid_acc += (labels == torch.max(prediction, axis=1)[1]).float().mean()\n",
        "    val_loss /= len(valid_iter)\n",
        "    if val_loss < min_loss:\n",
        "        min_loss = val_loss\n",
        "        best_model = model.state_dict()\n",
        "    else:\n",
        "        cur_patience += 1\n",
        "        if cur_patience == patience:\n",
        "            cur_patience = 0\n",
        "            break\n",
        "    \n",
        "    print('Epoch: {}, Training Loss: {}, Validation Loss: {}'.format(epoch, train_loss, val_loss))\n",
        "model.load_state_dict(best_model)"
      ]
    },
    {
      "cell_type": "markdown",
      "metadata": {
        "id": "y4i-Go_ICT_U",
        "papermill": {
          "duration": 0.050249,
          "end_time": "2020-10-21T08:21:48.897598",
          "exception": false,
          "start_time": "2020-10-21T08:21:48.847349",
          "status": "completed"
        },
        "tags": []
      },
      "source": [
        "Посчитаем f1-score нашего классификатора на тестовом датасете."
      ]
    },
    {
      "cell_type": "code",
      "execution_count": 9,
      "metadata": {
        "execution": {
          "iopub.execute_input": "2020-10-21T08:21:49.008717Z",
          "iopub.status.busy": "2020-10-21T08:21:49.008000Z",
          "iopub.status.idle": "2020-10-21T08:22:04.243415Z",
          "shell.execute_reply": "2020-10-21T08:22:04.242832Z"
        },
        "id": "gWkbCpNECflR",
        "papermill": {
          "duration": 15.295771,
          "end_time": "2020-10-21T08:22:04.243570",
          "exception": false,
          "start_time": "2020-10-21T08:21:48.947799",
          "status": "completed"
        },
        "tags": [],
        "colab": {
          "base_uri": "https://localhost:8080/"
        },
        "outputId": "7aa6b40f-8c1a-4322-be2e-c0bc6d3787c2"
      },
      "outputs": [
        {
          "output_type": "execute_result",
          "data": {
            "text/plain": [
              "0.003668261562998405"
            ]
          },
          "metadata": {},
          "execution_count": 9
        }
      ],
      "source": [
        "from sklearn.metrics import f1_score\n",
        "\n",
        "prediction=[]\n",
        "label=[]\n",
        "with torch.no_grad():\n",
        "    for batch in test_iter:\n",
        "        input_embeds = batch.text[0].to(device)\n",
        "        l = batch.text[1].to(device)\n",
        "        labels = batch.label.to(device)\n",
        "        pr = model(input_embeds, l).cpu().detach().numpy().squeeze()\n",
        "        prediction.extend(np.where(pr > 0.5, 1, 0))\n",
        "           \n",
        "        label.extend(labels.cpu())\n",
        "        \n",
        "f1_score(label, prediction)        "
      ]
    },
    {
      "cell_type": "markdown",
      "metadata": {
        "id": "kzDqc3__JIMe",
        "papermill": {
          "duration": 0.050738,
          "end_time": "2020-10-21T08:22:04.345856",
          "exception": false,
          "start_time": "2020-10-21T08:22:04.295118",
          "status": "completed"
        },
        "tags": []
      },
      "source": [
        "## CNN\n",
        "\n",
        "![](https://www.researchgate.net/publication/333752473/figure/fig1/AS:769346934673412@1560438011375/Standard-CNN-on-text-classification.png)"
      ]
    },
    {
      "cell_type": "code",
      "execution_count": 10,
      "metadata": {
        "execution": {
          "iopub.execute_input": "2020-10-21T08:22:04.454235Z",
          "iopub.status.busy": "2020-10-21T08:22:04.453407Z",
          "iopub.status.idle": "2020-10-21T08:22:14.077638Z",
          "shell.execute_reply": "2020-10-21T08:22:14.076587Z"
        },
        "id": "rU-76tNI-STt",
        "papermill": {
          "duration": 9.681405,
          "end_time": "2020-10-21T08:22:14.077775",
          "exception": false,
          "start_time": "2020-10-21T08:22:04.396370",
          "status": "completed"
        },
        "tags": []
      },
      "outputs": [],
      "source": [
        "TEXT = Field(sequential=True, lower=True, batch_first=True) \n",
        "LABEL = LabelField(batch_first=True, dtype=torch.float)\n",
        "\n",
        "train, test = datasets.IMDB.splits(TEXT, LABEL)\n",
        "train, valid = train.split(random_state=random.seed(SEED))\n",
        "\n",
        "TEXT.build_vocab(train)\n",
        "LABEL.build_vocab(train)\n",
        "\n",
        "device = \"cuda\" if torch.cuda.is_available() else \"cpu\""
      ]
    },
    {
      "cell_type": "code",
      "execution_count": 11,
      "metadata": {
        "execution": {
          "iopub.execute_input": "2020-10-21T08:22:14.287966Z",
          "iopub.status.busy": "2020-10-21T08:22:14.285948Z",
          "iopub.status.idle": "2020-10-21T08:22:14.291682Z",
          "shell.execute_reply": "2020-10-21T08:22:14.291099Z"
        },
        "id": "RQpS9KKUJQVH",
        "papermill": {
          "duration": 0.15367,
          "end_time": "2020-10-21T08:22:14.291797",
          "exception": false,
          "start_time": "2020-10-21T08:22:14.138127",
          "status": "completed"
        },
        "tags": []
      },
      "outputs": [],
      "source": [
        "train_iter, valid_iter, test_iter = BucketIterator.splits(\n",
        "        (train, valid, test),\n",
        "        batch_sizes=(128, 256, 256),\n",
        "        sort=False,\n",
        "        sort_key= lambda x: len(x.src),\n",
        "        sort_within_batch=False,\n",
        "        device=device,\n",
        "        repeat=False,\n",
        ")"
      ]
    },
    {
      "cell_type": "markdown",
      "metadata": {
        "id": "asgbwMePPNNl",
        "papermill": {
          "duration": 0.051574,
          "end_time": "2020-10-21T08:22:14.395699",
          "exception": false,
          "start_time": "2020-10-21T08:22:14.344125",
          "status": "completed"
        },
        "tags": []
      },
      "source": [
        "Вы можете использовать Conv2d с `in_channels=1, kernel_size=(kernel_sizes[0], emb_dim))` или Conv1d c `in_channels=emb_dim, kernel_size=kernel_size[0]`."
      ]
    },
    {
      "cell_type": "code",
      "execution_count": 12,
      "metadata": {
        "execution": {
          "iopub.execute_input": "2020-10-21T08:22:14.518289Z",
          "iopub.status.busy": "2020-10-21T08:22:14.517377Z",
          "iopub.status.idle": "2020-10-21T08:22:14.520551Z",
          "shell.execute_reply": "2020-10-21T08:22:14.520034Z"
        },
        "id": "qPP_-0E-JYTQ",
        "papermill": {
          "duration": 0.071906,
          "end_time": "2020-10-21T08:22:14.520667",
          "exception": false,
          "start_time": "2020-10-21T08:22:14.448761",
          "status": "completed"
        },
        "tags": []
      },
      "outputs": [],
      "source": [
        "class CNN(nn.Module):\n",
        "    def __init__(self, vocab_size, emb_dim, out_channels, kernel_sizes, dropout=0.5,):\n",
        "        super().__init__()\n",
        "        \n",
        "        self.embedding = nn.Embedding(vocab_size, emb_dim)\n",
        "        self.conv_0 = nn.Conv1d(emb_dim, out_channels, kernel_size=kernel_sizes[0])\n",
        "        self.conv_1 = nn.Conv1d(emb_dim, out_channels, kernel_size=kernel_sizes[1])\n",
        "        self.conv_2 = nn.Conv1d(emb_dim, out_channels, kernel_size=kernel_sizes[2])\n",
        "        self.fc = nn.Linear(len(kernel_sizes) * out_channels, 1)\n",
        "        self.dropout = nn.Dropout(dropout)\n",
        "        \n",
        "    def forward(self, text):\n",
        "        embedded = self.embedding(text)\n",
        "  \n",
        "        conved_0 = F.relu(self.conv_0(embedded.permute(0,2,1)))\n",
        "        conved_1 = F.relu(self.conv_1(embedded.permute(0,2,1)))\n",
        "        conved_2 = F.relu(self.conv_2(embedded.permute(0,2,1)))\n",
        "        \n",
        "        pooled_0 = F.max_pool1d(conved_0, conved_0.shape[2]).squeeze(2)\n",
        "        pooled_1 = F.max_pool1d(conved_1, conved_1.shape[2]).squeeze(2)\n",
        "        pooled_2 = F.max_pool1d(conved_2, conved_2.shape[2]).squeeze(2)\n",
        "       \n",
        "        cat = self.dropout(torch.cat((pooled_0, pooled_1, pooled_2), dim=1))\n",
        "       \n",
        "        return self.fc(cat)"
      ]
    },
    {
      "cell_type": "code",
      "execution_count": 13,
      "metadata": {
        "execution": {
          "iopub.execute_input": "2020-10-21T08:22:14.631264Z",
          "iopub.status.busy": "2020-10-21T08:22:14.630463Z",
          "iopub.status.idle": "2020-10-21T08:22:15.317607Z",
          "shell.execute_reply": "2020-10-21T08:22:15.317005Z"
        },
        "id": "Y-U_2T5oKNed",
        "papermill": {
          "duration": 0.744923,
          "end_time": "2020-10-21T08:22:15.317728",
          "exception": false,
          "start_time": "2020-10-21T08:22:14.572805",
          "status": "completed"
        },
        "tags": []
      },
      "outputs": [],
      "source": [
        "kernel_sizes = [3, 4, 5]\n",
        "vocab_size = len(TEXT.vocab)\n",
        "out_channels=64\n",
        "dropout = 0.2\n",
        "dim = 300\n",
        "max_epochs = 1"
      ]
    },
    {
      "cell_type": "code",
      "execution_count": 14,
      "metadata": {
        "execution": {
          "iopub.execute_input": "2020-10-21T08:22:15.428307Z",
          "iopub.status.busy": "2020-10-21T08:22:15.427074Z",
          "iopub.status.idle": "2020-10-21T08:22:15.494258Z",
          "shell.execute_reply": "2020-10-21T08:22:15.493773Z"
        },
        "id": "vC2ThnfNKPIR",
        "papermill": {
          "duration": 0.123617,
          "end_time": "2020-10-21T08:22:15.494360",
          "exception": false,
          "start_time": "2020-10-21T08:22:15.370743",
          "status": "completed"
        },
        "tags": []
      },
      "outputs": [],
      "source": [
        "model = CNN(\n",
        "    vocab_size=vocab_size, \n",
        "    emb_dim=dim, \n",
        "    out_channels=out_channels, \n",
        "    kernel_sizes=kernel_sizes, \n",
        "    dropout=dropout\n",
        "    )\n",
        "\n",
        "model = model.to(device)"
      ]
    },
    {
      "cell_type": "code",
      "execution_count": 15,
      "metadata": {
        "execution": {
          "iopub.execute_input": "2020-10-21T08:22:15.969883Z",
          "iopub.status.busy": "2020-10-21T08:22:15.968964Z",
          "iopub.status.idle": "2020-10-21T08:23:35.579405Z",
          "shell.execute_reply": "2020-10-21T08:23:35.578906Z"
        },
        "id": "zQZbJ791KXHb",
        "outputId": "a89170df-94bf-490f-e289-2cbadf1b349e",
        "papermill": {
          "duration": 79.700769,
          "end_time": "2020-10-21T08:23:35.579548",
          "exception": false,
          "start_time": "2020-10-21T08:22:15.878779",
          "status": "completed"
        },
        "tags": [],
        "colab": {
          "base_uri": "https://localhost:8080/",
          "height": 51,
          "referenced_widgets": [
            "2bc6168551244d758ce420b57cf8dbca",
            "40b9f137826c44edb47baad3ea0075fb",
            "338cfe2ea40a41f2a8a8f12e6db73fab",
            "cb7168c294a54f74a0453372efc9a590",
            "ed10ce7d72344da2b400260416c68999",
            "13ddac5e5cc44f28abb9552d0ec67fb4",
            "65e1da6bd6e84872a654c9030e5f0d74",
            "67930a76563b49b99f51870ffd255ed3",
            "36084f9ace854ce3876f6a5f325bd032",
            "762c8171fb064d92aa639d77f07b98dc",
            "b52bea22c823432b8c960a7798445441",
            "edd277e361b248e18701b59efe947b2b",
            "9aa95dbd869043e69068ff1880da5ec8",
            "0e49f5b75bb344c4be76e0f13d1799a5",
            "c861f442ed0540638489f77ae90443c2",
            "58d3eccc63494117836885b9bb7fa9d8",
            "bb1ff06d1f0e412d9aba7a1a71b5a833",
            "19698f72d63a4c558e34ad4368d49c69",
            "247b16478f96466497c16e9f63d77dbd",
            "7a3fa37e7a7b4d5099d4c49bc70123f0",
            "9fd7b6fec7a044a8a59a0cfca1afe193",
            "6230d7ebd5314add8946679e5ed80989"
          ]
        }
      },
      "outputs": [
        {
          "output_type": "display_data",
          "data": {
            "text/plain": [
              "  0%|          | 0/137 [00:00<?, ?it/s]"
            ],
            "application/vnd.jupyter.widget-view+json": {
              "version_major": 2,
              "version_minor": 0,
              "model_id": "2bc6168551244d758ce420b57cf8dbca"
            }
          },
          "metadata": {}
        },
        {
          "output_type": "display_data",
          "data": {
            "text/plain": [
              "  0%|          | 0/30 [00:00<?, ?it/s]"
            ],
            "application/vnd.jupyter.widget-view+json": {
              "version_major": 2,
              "version_minor": 0,
              "model_id": "edd277e361b248e18701b59efe947b2b"
            }
          },
          "metadata": {}
        },
        {
          "output_type": "stream",
          "name": "stdout",
          "text": [
            "Epoch: 1, Training Loss: 0.5666360559254667, Validation Loss: 0.4386986196041107\n"
          ]
        },
        {
          "output_type": "execute_result",
          "data": {
            "text/plain": [
              "<All keys matched successfully>"
            ]
          },
          "metadata": {},
          "execution_count": 15
        }
      ],
      "source": [
        "import numpy as np\n",
        "\n",
        "min_loss = np.inf\n",
        "optimizer = torch.optim.Adam(model.parameters(), lr=1e-3)\n",
        "loss_func = nn.BCEWithLogitsLoss()\n",
        "cur_patience = 0\n",
        "\n",
        "for epoch in range(1, max_epochs + 1):\n",
        "    train_loss = 0.0\n",
        "    model.train()\n",
        "    pbar = tqdm(enumerate(train_iter), total=len(train_iter), leave=False)\n",
        "    pbar.set_description(f\"Epoch {epoch}\")\n",
        "    for it, batch in pbar: \n",
        "        #YOUR CODE GOES HERE\n",
        "        input_embeds = batch.text.to(device)\n",
        "        labels = batch.label.to(device)\n",
        "        optimizer.zero_grad()\n",
        "        prediction = model(input_embeds)\n",
        "        loss = loss_func(prediction.squeeze(), labels) \n",
        "        loss.backward()\n",
        "        pbar.update(labels.size(0))\n",
        "        optimizer.step()\n",
        "        train_loss += loss.item()\n",
        "\n",
        "    train_loss /= len(train_iter)\n",
        "    val_loss = 0.0\n",
        "    model.eval()\n",
        "    pbar = tqdm(enumerate(valid_iter), total=len(valid_iter), leave=False)\n",
        "    pbar.set_description(f\"Epoch {epoch}\")\n",
        "    for it, batch in pbar:\n",
        "        # YOUR CODE GOES HERE\n",
        "        with torch.no_grad():\n",
        "            input_embeds = batch.text.to(device)\n",
        "            l = batch.text[1].to(device)\n",
        "            labels = batch.label.to(device)\n",
        "            prediction = model(input_embeds)\n",
        "            val_loss += loss_func(prediction.squeeze(), labels)\n",
        "            \n",
        "    val_loss /= len(valid_iter)\n",
        "    if val_loss < min_loss:\n",
        "        min_loss = val_loss\n",
        "        best_model = model.state_dict()\n",
        "    else:\n",
        "        cur_patience += 1\n",
        "        if cur_patience == patience:\n",
        "            cur_patience = 0\n",
        "            break\n",
        "    \n",
        "    print('Epoch: {}, Training Loss: {}, Validation Loss: {}'.format(epoch, train_loss, val_loss))\n",
        "model.load_state_dict(best_model)"
      ]
    },
    {
      "cell_type": "markdown",
      "metadata": {
        "id": "1UVCacK0EhPR",
        "papermill": {
          "duration": 0.06,
          "end_time": "2020-10-21T08:23:35.699829",
          "exception": false,
          "start_time": "2020-10-21T08:23:35.639829",
          "status": "completed"
        },
        "tags": []
      },
      "source": [
        "Посчитаем f1-score нашего классификатора на тестовом датасете."
      ]
    },
    {
      "cell_type": "code",
      "execution_count": 16,
      "metadata": {
        "execution": {
          "iopub.execute_input": "2020-10-21T08:23:35.852987Z",
          "iopub.status.busy": "2020-10-21T08:23:35.847827Z",
          "iopub.status.idle": "2020-10-21T08:23:47.135323Z",
          "shell.execute_reply": "2020-10-21T08:23:47.134567Z"
        },
        "papermill": {
          "duration": 11.375402,
          "end_time": "2020-10-21T08:23:47.135575",
          "exception": false,
          "start_time": "2020-10-21T08:23:35.760173",
          "status": "completed"
        },
        "tags": [],
        "colab": {
          "base_uri": "https://localhost:8080/"
        },
        "id": "1luKIJPjDkYT",
        "outputId": "ea65cf4f-47fe-4f0b-a1c2-2e1c6a03de7f"
      },
      "outputs": [
        {
          "output_type": "execute_result",
          "data": {
            "text/plain": [
              "0.7599697010203627"
            ]
          },
          "metadata": {},
          "execution_count": 16
        }
      ],
      "source": [
        "prediction=[]\n",
        "label=[]\n",
        "with torch.no_grad():\n",
        "    for batch in test_iter:\n",
        "        input_embeds = batch.text.to(device)\n",
        "        labels = batch.label.to(device)\n",
        "        pr = model(input_embeds).cpu().detach().numpy().squeeze()\n",
        "        prediction.extend(np.where(pr > 0.5, 1, 0))\n",
        "           \n",
        "        label.extend(labels.cpu())\n",
        "        \n",
        "f1_score(label, prediction) "
      ]
    },
    {
      "cell_type": "markdown",
      "metadata": {
        "id": "7VspGMN0ESiS",
        "papermill": {
          "duration": 0.061483,
          "end_time": "2020-10-21T08:23:47.268051",
          "exception": false,
          "start_time": "2020-10-21T08:23:47.206568",
          "status": "completed"
        },
        "tags": []
      },
      "source": [
        "## Интерпретируемость"
      ]
    },
    {
      "cell_type": "code",
      "execution_count": 17,
      "metadata": {
        "execution": {
          "iopub.execute_input": "2020-10-21T08:23:47.399190Z",
          "iopub.status.busy": "2020-10-21T08:23:47.398280Z",
          "iopub.status.idle": "2020-10-21T08:23:57.614181Z",
          "shell.execute_reply": "2020-10-21T08:23:57.614717Z"
        },
        "id": "ye2SvjXrPgJh",
        "papermill": {
          "duration": 10.28576,
          "end_time": "2020-10-21T08:23:57.614873",
          "exception": false,
          "start_time": "2020-10-21T08:23:47.329113",
          "status": "completed"
        },
        "tags": []
      },
      "outputs": [],
      "source": [
        "!pip install -q captum"
      ]
    },
    {
      "cell_type": "code",
      "execution_count": 18,
      "metadata": {
        "execution": {
          "iopub.execute_input": "2020-10-21T08:23:57.745715Z",
          "iopub.status.busy": "2020-10-21T08:23:57.744882Z",
          "iopub.status.idle": "2020-10-21T08:23:57.781715Z",
          "shell.execute_reply": "2020-10-21T08:23:57.780871Z"
        },
        "id": "6e5XPKSZO6DY",
        "papermill": {
          "duration": 0.104794,
          "end_time": "2020-10-21T08:23:57.781828",
          "exception": false,
          "start_time": "2020-10-21T08:23:57.677034",
          "status": "completed"
        },
        "tags": []
      },
      "outputs": [],
      "source": [
        "from captum.attr import LayerIntegratedGradients, TokenReferenceBase, visualization\n",
        "\n",
        "PAD_IND = TEXT.vocab.stoi['pad']\n",
        "\n",
        "token_reference = TokenReferenceBase(reference_token_idx=PAD_IND)\n",
        "lig = LayerIntegratedGradients(model, model.embedding)"
      ]
    },
    {
      "cell_type": "code",
      "execution_count": 19,
      "metadata": {
        "execution": {
          "iopub.execute_input": "2020-10-21T08:23:57.927062Z",
          "iopub.status.busy": "2020-10-21T08:23:57.926194Z",
          "iopub.status.idle": "2020-10-21T08:23:57.928649Z",
          "shell.execute_reply": "2020-10-21T08:23:57.929215Z"
        },
        "id": "DvqWhd-fPe9e",
        "papermill": {
          "duration": 0.08212,
          "end_time": "2020-10-21T08:23:57.929382",
          "exception": false,
          "start_time": "2020-10-21T08:23:57.847262",
          "status": "completed"
        },
        "tags": []
      },
      "outputs": [],
      "source": [
        "def forward_with_softmax(inp):\n",
        "    logits = model(inp)\n",
        "    return torch.softmax(logits, 0)[0][1]\n",
        "\n",
        "def forward_with_sigmoid(input):\n",
        "    return torch.sigmoid(model(input))\n",
        "\n",
        "\n",
        "# accumalate couple samples in this array for visualization purposes\n",
        "vis_data_records_ig = []\n",
        "\n",
        "def interpret_sentence(model, sentence, min_len = 7, label = 0):\n",
        "    model.eval()\n",
        "    text = [tok for tok in TEXT.tokenize(sentence)]\n",
        "    if len(text) < min_len:\n",
        "        text += ['pad'] * (min_len - len(text))\n",
        "    indexed = [TEXT.vocab.stoi[t] for t in text]\n",
        "\n",
        "    model.zero_grad()\n",
        "\n",
        "    input_indices = torch.tensor(indexed, device=device)\n",
        "    input_indices = input_indices.unsqueeze(0)\n",
        "    \n",
        "    # input_indices dim: [sequence_length]\n",
        "    seq_length = min_len\n",
        "\n",
        "    # predict\n",
        "    pred = forward_with_sigmoid(input_indices).item()\n",
        "    pred_ind = round(pred)\n",
        "\n",
        "    # generate reference indices for each sample\n",
        "    reference_indices = token_reference.generate_reference(seq_length, device=device).unsqueeze(0)\n",
        "\n",
        "    # compute attributions and approximation delta using layer integrated gradients\n",
        "    attributions_ig, delta = lig.attribute(input_indices, reference_indices, \\\n",
        "                                           n_steps=5000, return_convergence_delta=True)\n",
        "\n",
        "    print('pred: ', LABEL.vocab.itos[pred_ind], '(', '%.2f'%pred, ')', ', delta: ', abs(delta))\n",
        "\n",
        "    add_attributions_to_visualizer(attributions_ig, text, pred, pred_ind, label, delta, vis_data_records_ig)\n",
        "    \n",
        "def add_attributions_to_visualizer(attributions, text, pred, pred_ind, label, delta, vis_data_records):\n",
        "    attributions = attributions.sum(dim=2).squeeze(0)\n",
        "    attributions = attributions / torch.norm(attributions)\n",
        "    attributions = attributions.cpu().detach().numpy()\n",
        "\n",
        "    # storing couple samples in an array for visualization purposes\n",
        "    vis_data_records.append(visualization.VisualizationDataRecord(\n",
        "                            attributions,\n",
        "                            pred,\n",
        "                            LABEL.vocab.itos[pred_ind],\n",
        "                            LABEL.vocab.itos[label],\n",
        "                            LABEL.vocab.itos[1],\n",
        "                            attributions.sum(),       \n",
        "                            text,\n",
        "                            delta))"
      ]
    },
    {
      "cell_type": "code",
      "execution_count": 20,
      "metadata": {
        "execution": {
          "iopub.execute_input": "2020-10-21T08:23:58.061168Z",
          "iopub.status.busy": "2020-10-21T08:23:58.060261Z",
          "iopub.status.idle": "2020-10-21T08:25:22.263416Z",
          "shell.execute_reply": "2020-10-21T08:25:22.264098Z"
        },
        "id": "VtYy633vS8Me",
        "outputId": "55c2dfdb-5804-4738-fe6b-c5b1010dc1c9",
        "papermill": {
          "duration": 84.273244,
          "end_time": "2020-10-21T08:25:22.264260",
          "exception": false,
          "start_time": "2020-10-21T08:23:57.991016",
          "status": "completed"
        },
        "tags": [],
        "colab": {
          "base_uri": "https://localhost:8080/"
        }
      },
      "outputs": [
        {
          "output_type": "stream",
          "name": "stdout",
          "text": [
            "pred:  pos ( 0.52 ) , delta:  tensor([3.4400e-05], device='cuda:0', dtype=torch.float64)\n",
            "pred:  neg ( 0.33 ) , delta:  tensor([2.1224e-06], device='cuda:0', dtype=torch.float64)\n",
            "pred:  pos ( 0.76 ) , delta:  tensor([1.6031e-05], device='cuda:0', dtype=torch.float64)\n",
            "pred:  neg ( 0.09 ) , delta:  tensor([6.9467e-05], device='cuda:0', dtype=torch.float64)\n",
            "pred:  neg ( 0.25 ) , delta:  tensor([3.7743e-05], device='cuda:0', dtype=torch.float64)\n",
            "pred:  pos ( 0.56 ) , delta:  tensor([3.9567e-06], device='cuda:0', dtype=torch.float64)\n"
          ]
        }
      ],
      "source": [
        "interpret_sentence(model, 'It was a fantastic performance !', label=1)\n",
        "interpret_sentence(model, 'Best film ever', label=1)\n",
        "interpret_sentence(model, 'Such a great show!', label=1)\n",
        "interpret_sentence(model, 'It was a horrible movie', label=0)\n",
        "interpret_sentence(model, 'I\\'ve never watched something as bad', label=0)\n",
        "interpret_sentence(model, 'It is a disgusting movie!', label=0)"
      ]
    },
    {
      "cell_type": "code",
      "execution_count": 21,
      "metadata": {
        "execution": {
          "iopub.execute_input": "2020-10-21T08:25:22.524472Z",
          "iopub.status.busy": "2020-10-21T08:25:22.523649Z",
          "iopub.status.idle": "2020-10-21T08:25:22.529958Z",
          "shell.execute_reply": "2020-10-21T08:25:22.529436Z"
        },
        "id": "4URAkcWXTGBi",
        "outputId": "2fddc124-71f5-4378-b887-18884b868ad3",
        "papermill": {
          "duration": 0.074105,
          "end_time": "2020-10-21T08:25:22.530059",
          "exception": false,
          "start_time": "2020-10-21T08:25:22.455954",
          "status": "completed"
        },
        "tags": [],
        "colab": {
          "base_uri": "https://localhost:8080/",
          "height": 496
        }
      },
      "outputs": [
        {
          "output_type": "stream",
          "name": "stdout",
          "text": [
            "Visualize attributions based on Integrated Gradients\n"
          ]
        },
        {
          "output_type": "display_data",
          "data": {
            "text/plain": [
              "<IPython.core.display.HTML object>"
            ],
            "text/html": [
              "<table width: 100%><div style=\"border-top: 1px solid; margin-top: 5px;             padding-top: 5px; display: inline-block\"><b>Legend: </b><span style=\"display: inline-block; width: 10px; height: 10px;                 border: 1px solid; background-color:                 hsl(0, 75%, 60%)\"></span> Negative  <span style=\"display: inline-block; width: 10px; height: 10px;                 border: 1px solid; background-color:                 hsl(0, 75%, 100%)\"></span> Neutral  <span style=\"display: inline-block; width: 10px; height: 10px;                 border: 1px solid; background-color:                 hsl(120, 75%, 50%)\"></span> Positive  </div><tr><th>True Label</th><th>Predicted Label</th><th>Attribution Label</th><th>Attribution Score</th><th>Word Importance</th><tr><td><text style=\"padding-right:2em\"><b>pos</b></text></td><td><text style=\"padding-right:2em\"><b>pos (0.52)</b></text></td><td><text style=\"padding-right:2em\"><b>pos</b></text></td><td><text style=\"padding-right:2em\"><b>1.30</b></text></td><td><mark style=\"background-color: hsl(120, 75%, 98%); opacity:1.0;                     line-height:1.75\"><font color=\"black\"> It                    </font></mark><mark style=\"background-color: hsl(0, 75%, 88%); opacity:1.0;                     line-height:1.75\"><font color=\"black\"> was                    </font></mark><mark style=\"background-color: hsl(120, 75%, 79%); opacity:1.0;                     line-height:1.75\"><font color=\"black\"> a                    </font></mark><mark style=\"background-color: hsl(120, 75%, 72%); opacity:1.0;                     line-height:1.75\"><font color=\"black\"> fantastic                    </font></mark><mark style=\"background-color: hsl(120, 75%, 70%); opacity:1.0;                     line-height:1.75\"><font color=\"black\"> performance                    </font></mark><mark style=\"background-color: hsl(0, 75%, 99%); opacity:1.0;                     line-height:1.75\"><font color=\"black\"> !                    </font></mark><mark style=\"background-color: hsl(0, 75%, 100%); opacity:1.0;                     line-height:1.75\"><font color=\"black\"> pad                    </font></mark></td><tr><tr><td><text style=\"padding-right:2em\"><b>pos</b></text></td><td><text style=\"padding-right:2em\"><b>neg (0.33)</b></text></td><td><text style=\"padding-right:2em\"><b>pos</b></text></td><td><text style=\"padding-right:2em\"><b>0.93</b></text></td><td><mark style=\"background-color: hsl(120, 75%, 91%); opacity:1.0;                     line-height:1.75\"><font color=\"black\"> Best                    </font></mark><mark style=\"background-color: hsl(120, 75%, 53%); opacity:1.0;                     line-height:1.75\"><font color=\"black\"> film                    </font></mark><mark style=\"background-color: hsl(0, 75%, 92%); opacity:1.0;                     line-height:1.75\"><font color=\"black\"> ever                    </font></mark><mark style=\"background-color: hsl(0, 75%, 100%); opacity:1.0;                     line-height:1.75\"><font color=\"black\"> pad                    </font></mark><mark style=\"background-color: hsl(0, 75%, 100%); opacity:1.0;                     line-height:1.75\"><font color=\"black\"> pad                    </font></mark><mark style=\"background-color: hsl(0, 75%, 100%); opacity:1.0;                     line-height:1.75\"><font color=\"black\"> pad                    </font></mark><mark style=\"background-color: hsl(0, 75%, 100%); opacity:1.0;                     line-height:1.75\"><font color=\"black\"> pad                    </font></mark></td><tr><tr><td><text style=\"padding-right:2em\"><b>pos</b></text></td><td><text style=\"padding-right:2em\"><b>pos (0.76)</b></text></td><td><text style=\"padding-right:2em\"><b>pos</b></text></td><td><text style=\"padding-right:2em\"><b>1.19</b></text></td><td><mark style=\"background-color: hsl(0, 75%, 100%); opacity:1.0;                     line-height:1.75\"><font color=\"black\"> Such                    </font></mark><mark style=\"background-color: hsl(120, 75%, 94%); opacity:1.0;                     line-height:1.75\"><font color=\"black\"> a                    </font></mark><mark style=\"background-color: hsl(120, 75%, 51%); opacity:1.0;                     line-height:1.75\"><font color=\"black\"> great                    </font></mark><mark style=\"background-color: hsl(120, 75%, 96%); opacity:1.0;                     line-height:1.75\"><font color=\"black\"> show!                    </font></mark><mark style=\"background-color: hsl(0, 75%, 100%); opacity:1.0;                     line-height:1.75\"><font color=\"black\"> pad                    </font></mark><mark style=\"background-color: hsl(0, 75%, 100%); opacity:1.0;                     line-height:1.75\"><font color=\"black\"> pad                    </font></mark><mark style=\"background-color: hsl(0, 75%, 100%); opacity:1.0;                     line-height:1.75\"><font color=\"black\"> pad                    </font></mark></td><tr><tr><td><text style=\"padding-right:2em\"><b>neg</b></text></td><td><text style=\"padding-right:2em\"><b>neg (0.09)</b></text></td><td><text style=\"padding-right:2em\"><b>pos</b></text></td><td><text style=\"padding-right:2em\"><b>-0.70</b></text></td><td><mark style=\"background-color: hsl(120, 75%, 100%); opacity:1.0;                     line-height:1.75\"><font color=\"black\"> It                    </font></mark><mark style=\"background-color: hsl(0, 75%, 96%); opacity:1.0;                     line-height:1.75\"><font color=\"black\"> was                    </font></mark><mark style=\"background-color: hsl(120, 75%, 88%); opacity:1.0;                     line-height:1.75\"><font color=\"black\"> a                    </font></mark><mark style=\"background-color: hsl(0, 75%, 62%); opacity:1.0;                     line-height:1.75\"><font color=\"black\"> horrible                    </font></mark><mark style=\"background-color: hsl(120, 75%, 95%); opacity:1.0;                     line-height:1.75\"><font color=\"black\"> movie                    </font></mark><mark style=\"background-color: hsl(0, 75%, 100%); opacity:1.0;                     line-height:1.75\"><font color=\"black\"> pad                    </font></mark><mark style=\"background-color: hsl(0, 75%, 100%); opacity:1.0;                     line-height:1.75\"><font color=\"black\"> pad                    </font></mark></td><tr><tr><td><text style=\"padding-right:2em\"><b>neg</b></text></td><td><text style=\"padding-right:2em\"><b>neg (0.25)</b></text></td><td><text style=\"padding-right:2em\"><b>pos</b></text></td><td><text style=\"padding-right:2em\"><b>-0.02</b></text></td><td><mark style=\"background-color: hsl(0, 75%, 99%); opacity:1.0;                     line-height:1.75\"><font color=\"black\"> I've                    </font></mark><mark style=\"background-color: hsl(120, 75%, 100%); opacity:1.0;                     line-height:1.75\"><font color=\"black\"> never                    </font></mark><mark style=\"background-color: hsl(120, 75%, 98%); opacity:1.0;                     line-height:1.75\"><font color=\"black\"> watched                    </font></mark><mark style=\"background-color: hsl(120, 75%, 100%); opacity:1.0;                     line-height:1.75\"><font color=\"black\"> something                    </font></mark><mark style=\"background-color: hsl(120, 75%, 67%); opacity:1.0;                     line-height:1.75\"><font color=\"black\"> as                    </font></mark><mark style=\"background-color: hsl(0, 75%, 71%); opacity:1.0;                     line-height:1.75\"><font color=\"black\"> bad                    </font></mark><mark style=\"background-color: hsl(0, 75%, 100%); opacity:1.0;                     line-height:1.75\"><font color=\"black\"> pad                    </font></mark></td><tr><tr><td><text style=\"padding-right:2em\"><b>neg</b></text></td><td><text style=\"padding-right:2em\"><b>pos (0.56)</b></text></td><td><text style=\"padding-right:2em\"><b>pos</b></text></td><td><text style=\"padding-right:2em\"><b>1.41</b></text></td><td><mark style=\"background-color: hsl(0, 75%, 99%); opacity:1.0;                     line-height:1.75\"><font color=\"black\"> It                    </font></mark><mark style=\"background-color: hsl(120, 75%, 63%); opacity:1.0;                     line-height:1.75\"><font color=\"black\"> is                    </font></mark><mark style=\"background-color: hsl(120, 75%, 72%); opacity:1.0;                     line-height:1.75\"><font color=\"black\"> a                    </font></mark><mark style=\"background-color: hsl(0, 75%, 94%); opacity:1.0;                     line-height:1.75\"><font color=\"black\"> disgusting                    </font></mark><mark style=\"background-color: hsl(120, 75%, 85%); opacity:1.0;                     line-height:1.75\"><font color=\"black\"> movie!                    </font></mark><mark style=\"background-color: hsl(0, 75%, 100%); opacity:1.0;                     line-height:1.75\"><font color=\"black\"> pad                    </font></mark><mark style=\"background-color: hsl(0, 75%, 100%); opacity:1.0;                     line-height:1.75\"><font color=\"black\"> pad                    </font></mark></td><tr></table>"
            ]
          },
          "metadata": {}
        },
        {
          "output_type": "execute_result",
          "data": {
            "text/plain": [
              "<IPython.core.display.HTML object>"
            ],
            "text/html": [
              "<table width: 100%><div style=\"border-top: 1px solid; margin-top: 5px;             padding-top: 5px; display: inline-block\"><b>Legend: </b><span style=\"display: inline-block; width: 10px; height: 10px;                 border: 1px solid; background-color:                 hsl(0, 75%, 60%)\"></span> Negative  <span style=\"display: inline-block; width: 10px; height: 10px;                 border: 1px solid; background-color:                 hsl(0, 75%, 100%)\"></span> Neutral  <span style=\"display: inline-block; width: 10px; height: 10px;                 border: 1px solid; background-color:                 hsl(120, 75%, 50%)\"></span> Positive  </div><tr><th>True Label</th><th>Predicted Label</th><th>Attribution Label</th><th>Attribution Score</th><th>Word Importance</th><tr><td><text style=\"padding-right:2em\"><b>pos</b></text></td><td><text style=\"padding-right:2em\"><b>pos (0.52)</b></text></td><td><text style=\"padding-right:2em\"><b>pos</b></text></td><td><text style=\"padding-right:2em\"><b>1.30</b></text></td><td><mark style=\"background-color: hsl(120, 75%, 98%); opacity:1.0;                     line-height:1.75\"><font color=\"black\"> It                    </font></mark><mark style=\"background-color: hsl(0, 75%, 88%); opacity:1.0;                     line-height:1.75\"><font color=\"black\"> was                    </font></mark><mark style=\"background-color: hsl(120, 75%, 79%); opacity:1.0;                     line-height:1.75\"><font color=\"black\"> a                    </font></mark><mark style=\"background-color: hsl(120, 75%, 72%); opacity:1.0;                     line-height:1.75\"><font color=\"black\"> fantastic                    </font></mark><mark style=\"background-color: hsl(120, 75%, 70%); opacity:1.0;                     line-height:1.75\"><font color=\"black\"> performance                    </font></mark><mark style=\"background-color: hsl(0, 75%, 99%); opacity:1.0;                     line-height:1.75\"><font color=\"black\"> !                    </font></mark><mark style=\"background-color: hsl(0, 75%, 100%); opacity:1.0;                     line-height:1.75\"><font color=\"black\"> pad                    </font></mark></td><tr><tr><td><text style=\"padding-right:2em\"><b>pos</b></text></td><td><text style=\"padding-right:2em\"><b>neg (0.33)</b></text></td><td><text style=\"padding-right:2em\"><b>pos</b></text></td><td><text style=\"padding-right:2em\"><b>0.93</b></text></td><td><mark style=\"background-color: hsl(120, 75%, 91%); opacity:1.0;                     line-height:1.75\"><font color=\"black\"> Best                    </font></mark><mark style=\"background-color: hsl(120, 75%, 53%); opacity:1.0;                     line-height:1.75\"><font color=\"black\"> film                    </font></mark><mark style=\"background-color: hsl(0, 75%, 92%); opacity:1.0;                     line-height:1.75\"><font color=\"black\"> ever                    </font></mark><mark style=\"background-color: hsl(0, 75%, 100%); opacity:1.0;                     line-height:1.75\"><font color=\"black\"> pad                    </font></mark><mark style=\"background-color: hsl(0, 75%, 100%); opacity:1.0;                     line-height:1.75\"><font color=\"black\"> pad                    </font></mark><mark style=\"background-color: hsl(0, 75%, 100%); opacity:1.0;                     line-height:1.75\"><font color=\"black\"> pad                    </font></mark><mark style=\"background-color: hsl(0, 75%, 100%); opacity:1.0;                     line-height:1.75\"><font color=\"black\"> pad                    </font></mark></td><tr><tr><td><text style=\"padding-right:2em\"><b>pos</b></text></td><td><text style=\"padding-right:2em\"><b>pos (0.76)</b></text></td><td><text style=\"padding-right:2em\"><b>pos</b></text></td><td><text style=\"padding-right:2em\"><b>1.19</b></text></td><td><mark style=\"background-color: hsl(0, 75%, 100%); opacity:1.0;                     line-height:1.75\"><font color=\"black\"> Such                    </font></mark><mark style=\"background-color: hsl(120, 75%, 94%); opacity:1.0;                     line-height:1.75\"><font color=\"black\"> a                    </font></mark><mark style=\"background-color: hsl(120, 75%, 51%); opacity:1.0;                     line-height:1.75\"><font color=\"black\"> great                    </font></mark><mark style=\"background-color: hsl(120, 75%, 96%); opacity:1.0;                     line-height:1.75\"><font color=\"black\"> show!                    </font></mark><mark style=\"background-color: hsl(0, 75%, 100%); opacity:1.0;                     line-height:1.75\"><font color=\"black\"> pad                    </font></mark><mark style=\"background-color: hsl(0, 75%, 100%); opacity:1.0;                     line-height:1.75\"><font color=\"black\"> pad                    </font></mark><mark style=\"background-color: hsl(0, 75%, 100%); opacity:1.0;                     line-height:1.75\"><font color=\"black\"> pad                    </font></mark></td><tr><tr><td><text style=\"padding-right:2em\"><b>neg</b></text></td><td><text style=\"padding-right:2em\"><b>neg (0.09)</b></text></td><td><text style=\"padding-right:2em\"><b>pos</b></text></td><td><text style=\"padding-right:2em\"><b>-0.70</b></text></td><td><mark style=\"background-color: hsl(120, 75%, 100%); opacity:1.0;                     line-height:1.75\"><font color=\"black\"> It                    </font></mark><mark style=\"background-color: hsl(0, 75%, 96%); opacity:1.0;                     line-height:1.75\"><font color=\"black\"> was                    </font></mark><mark style=\"background-color: hsl(120, 75%, 88%); opacity:1.0;                     line-height:1.75\"><font color=\"black\"> a                    </font></mark><mark style=\"background-color: hsl(0, 75%, 62%); opacity:1.0;                     line-height:1.75\"><font color=\"black\"> horrible                    </font></mark><mark style=\"background-color: hsl(120, 75%, 95%); opacity:1.0;                     line-height:1.75\"><font color=\"black\"> movie                    </font></mark><mark style=\"background-color: hsl(0, 75%, 100%); opacity:1.0;                     line-height:1.75\"><font color=\"black\"> pad                    </font></mark><mark style=\"background-color: hsl(0, 75%, 100%); opacity:1.0;                     line-height:1.75\"><font color=\"black\"> pad                    </font></mark></td><tr><tr><td><text style=\"padding-right:2em\"><b>neg</b></text></td><td><text style=\"padding-right:2em\"><b>neg (0.25)</b></text></td><td><text style=\"padding-right:2em\"><b>pos</b></text></td><td><text style=\"padding-right:2em\"><b>-0.02</b></text></td><td><mark style=\"background-color: hsl(0, 75%, 99%); opacity:1.0;                     line-height:1.75\"><font color=\"black\"> I've                    </font></mark><mark style=\"background-color: hsl(120, 75%, 100%); opacity:1.0;                     line-height:1.75\"><font color=\"black\"> never                    </font></mark><mark style=\"background-color: hsl(120, 75%, 98%); opacity:1.0;                     line-height:1.75\"><font color=\"black\"> watched                    </font></mark><mark style=\"background-color: hsl(120, 75%, 100%); opacity:1.0;                     line-height:1.75\"><font color=\"black\"> something                    </font></mark><mark style=\"background-color: hsl(120, 75%, 67%); opacity:1.0;                     line-height:1.75\"><font color=\"black\"> as                    </font></mark><mark style=\"background-color: hsl(0, 75%, 71%); opacity:1.0;                     line-height:1.75\"><font color=\"black\"> bad                    </font></mark><mark style=\"background-color: hsl(0, 75%, 100%); opacity:1.0;                     line-height:1.75\"><font color=\"black\"> pad                    </font></mark></td><tr><tr><td><text style=\"padding-right:2em\"><b>neg</b></text></td><td><text style=\"padding-right:2em\"><b>pos (0.56)</b></text></td><td><text style=\"padding-right:2em\"><b>pos</b></text></td><td><text style=\"padding-right:2em\"><b>1.41</b></text></td><td><mark style=\"background-color: hsl(0, 75%, 99%); opacity:1.0;                     line-height:1.75\"><font color=\"black\"> It                    </font></mark><mark style=\"background-color: hsl(120, 75%, 63%); opacity:1.0;                     line-height:1.75\"><font color=\"black\"> is                    </font></mark><mark style=\"background-color: hsl(120, 75%, 72%); opacity:1.0;                     line-height:1.75\"><font color=\"black\"> a                    </font></mark><mark style=\"background-color: hsl(0, 75%, 94%); opacity:1.0;                     line-height:1.75\"><font color=\"black\"> disgusting                    </font></mark><mark style=\"background-color: hsl(120, 75%, 85%); opacity:1.0;                     line-height:1.75\"><font color=\"black\"> movie!                    </font></mark><mark style=\"background-color: hsl(0, 75%, 100%); opacity:1.0;                     line-height:1.75\"><font color=\"black\"> pad                    </font></mark><mark style=\"background-color: hsl(0, 75%, 100%); opacity:1.0;                     line-height:1.75\"><font color=\"black\"> pad                    </font></mark></td><tr></table>"
            ]
          },
          "metadata": {},
          "execution_count": 21
        }
      ],
      "source": [
        "print('Visualize attributions based on Integrated Gradients')\n",
        "visualization.visualize_text(vis_data_records_ig)"
      ]
    },
    {
      "cell_type": "code",
      "source": [
        ""
      ],
      "metadata": {
        "id": "rx1nwfSgZwNH"
      },
      "execution_count": null,
      "outputs": []
    }
  ],
  "metadata": {
    "kernelspec": {
      "display_name": "Python 3",
      "language": "python",
      "name": "python3"
    },
    "language_info": {
      "codemirror_mode": {
        "name": "ipython",
        "version": 3
      },
      "file_extension": ".py",
      "mimetype": "text/x-python",
      "name": "python",
      "nbconvert_exporter": "python",
      "pygments_lexer": "ipython3",
      "version": "3.7.6"
    },
    "papermill": {
      "duration": 1108.477951,
      "end_time": "2020-10-21T08:36:49.475982",
      "environment_variables": {},
      "exception": null,
      "input_path": "__notebook__.ipynb",
      "output_path": "__notebook__.ipynb",
      "parameters": {},
      "start_time": "2020-10-21T08:18:20.998031",
      "version": "2.1.0"
    },
    "widgets": {
      "application/vnd.jupyter.widget-state+json": {
        "a06a2f8be19146c48b151c5c94dd7bda": {
          "model_module": "@jupyter-widgets/controls",
          "model_name": "HBoxModel",
          "model_module_version": "1.5.0",
          "state": {
            "_dom_classes": [],
            "_model_module": "@jupyter-widgets/controls",
            "_model_module_version": "1.5.0",
            "_model_name": "HBoxModel",
            "_view_count": null,
            "_view_module": "@jupyter-widgets/controls",
            "_view_module_version": "1.5.0",
            "_view_name": "HBoxView",
            "box_style": "",
            "children": [
              "IPY_MODEL_889cc05ef9794af48222abeb1ee96d9f",
              "IPY_MODEL_4f7934fe671440968c729b850c8a34c3",
              "IPY_MODEL_dea5b4ac0a3648b5b7b38af83408215b"
            ],
            "layout": "IPY_MODEL_ee6802d532484109a49cf4c150784044"
          }
        },
        "889cc05ef9794af48222abeb1ee96d9f": {
          "model_module": "@jupyter-widgets/controls",
          "model_name": "HTMLModel",
          "model_module_version": "1.5.0",
          "state": {
            "_dom_classes": [],
            "_model_module": "@jupyter-widgets/controls",
            "_model_module_version": "1.5.0",
            "_model_name": "HTMLModel",
            "_view_count": null,
            "_view_module": "@jupyter-widgets/controls",
            "_view_module_version": "1.5.0",
            "_view_name": "HTMLView",
            "description": "",
            "description_tooltip": null,
            "layout": "IPY_MODEL_a9bbc71998c1414f96ff43e27d9a66da",
            "placeholder": "​",
            "style": "IPY_MODEL_57b075ea74bf4811ba699837655926da",
            "value": "Epoch 1: "
          }
        },
        "4f7934fe671440968c729b850c8a34c3": {
          "model_module": "@jupyter-widgets/controls",
          "model_name": "FloatProgressModel",
          "model_module_version": "1.5.0",
          "state": {
            "_dom_classes": [],
            "_model_module": "@jupyter-widgets/controls",
            "_model_module_version": "1.5.0",
            "_model_name": "FloatProgressModel",
            "_view_count": null,
            "_view_module": "@jupyter-widgets/controls",
            "_view_module_version": "1.5.0",
            "_view_name": "ProgressView",
            "bar_style": "",
            "description": "",
            "description_tooltip": null,
            "layout": "IPY_MODEL_d141827023d8483e986be4eb50b2f78f",
            "max": 137,
            "min": 0,
            "orientation": "horizontal",
            "style": "IPY_MODEL_d4496156815646d5849a60be71c8f600",
            "value": 137
          }
        },
        "dea5b4ac0a3648b5b7b38af83408215b": {
          "model_module": "@jupyter-widgets/controls",
          "model_name": "HTMLModel",
          "model_module_version": "1.5.0",
          "state": {
            "_dom_classes": [],
            "_model_module": "@jupyter-widgets/controls",
            "_model_module_version": "1.5.0",
            "_model_name": "HTMLModel",
            "_view_count": null,
            "_view_module": "@jupyter-widgets/controls",
            "_view_module_version": "1.5.0",
            "_view_name": "HTMLView",
            "description": "",
            "description_tooltip": null,
            "layout": "IPY_MODEL_beabb08850f044f28c186d2d06ff8325",
            "placeholder": "​",
            "style": "IPY_MODEL_ff63dc96b984408b825756e536e14280",
            "value": " 17509/? [03:42&lt;00:00, 73.03it/s]"
          }
        },
        "ee6802d532484109a49cf4c150784044": {
          "model_module": "@jupyter-widgets/base",
          "model_name": "LayoutModel",
          "model_module_version": "1.2.0",
          "state": {
            "_model_module": "@jupyter-widgets/base",
            "_model_module_version": "1.2.0",
            "_model_name": "LayoutModel",
            "_view_count": null,
            "_view_module": "@jupyter-widgets/base",
            "_view_module_version": "1.2.0",
            "_view_name": "LayoutView",
            "align_content": null,
            "align_items": null,
            "align_self": null,
            "border": null,
            "bottom": null,
            "display": null,
            "flex": null,
            "flex_flow": null,
            "grid_area": null,
            "grid_auto_columns": null,
            "grid_auto_flow": null,
            "grid_auto_rows": null,
            "grid_column": null,
            "grid_gap": null,
            "grid_row": null,
            "grid_template_areas": null,
            "grid_template_columns": null,
            "grid_template_rows": null,
            "height": null,
            "justify_content": null,
            "justify_items": null,
            "left": null,
            "margin": null,
            "max_height": null,
            "max_width": null,
            "min_height": null,
            "min_width": null,
            "object_fit": null,
            "object_position": null,
            "order": null,
            "overflow": null,
            "overflow_x": null,
            "overflow_y": null,
            "padding": null,
            "right": null,
            "top": null,
            "visibility": null,
            "width": null
          }
        },
        "a9bbc71998c1414f96ff43e27d9a66da": {
          "model_module": "@jupyter-widgets/base",
          "model_name": "LayoutModel",
          "model_module_version": "1.2.0",
          "state": {
            "_model_module": "@jupyter-widgets/base",
            "_model_module_version": "1.2.0",
            "_model_name": "LayoutModel",
            "_view_count": null,
            "_view_module": "@jupyter-widgets/base",
            "_view_module_version": "1.2.0",
            "_view_name": "LayoutView",
            "align_content": null,
            "align_items": null,
            "align_self": null,
            "border": null,
            "bottom": null,
            "display": null,
            "flex": null,
            "flex_flow": null,
            "grid_area": null,
            "grid_auto_columns": null,
            "grid_auto_flow": null,
            "grid_auto_rows": null,
            "grid_column": null,
            "grid_gap": null,
            "grid_row": null,
            "grid_template_areas": null,
            "grid_template_columns": null,
            "grid_template_rows": null,
            "height": null,
            "justify_content": null,
            "justify_items": null,
            "left": null,
            "margin": null,
            "max_height": null,
            "max_width": null,
            "min_height": null,
            "min_width": null,
            "object_fit": null,
            "object_position": null,
            "order": null,
            "overflow": null,
            "overflow_x": null,
            "overflow_y": null,
            "padding": null,
            "right": null,
            "top": null,
            "visibility": null,
            "width": null
          }
        },
        "57b075ea74bf4811ba699837655926da": {
          "model_module": "@jupyter-widgets/controls",
          "model_name": "DescriptionStyleModel",
          "model_module_version": "1.5.0",
          "state": {
            "_model_module": "@jupyter-widgets/controls",
            "_model_module_version": "1.5.0",
            "_model_name": "DescriptionStyleModel",
            "_view_count": null,
            "_view_module": "@jupyter-widgets/base",
            "_view_module_version": "1.2.0",
            "_view_name": "StyleView",
            "description_width": ""
          }
        },
        "d141827023d8483e986be4eb50b2f78f": {
          "model_module": "@jupyter-widgets/base",
          "model_name": "LayoutModel",
          "model_module_version": "1.2.0",
          "state": {
            "_model_module": "@jupyter-widgets/base",
            "_model_module_version": "1.2.0",
            "_model_name": "LayoutModel",
            "_view_count": null,
            "_view_module": "@jupyter-widgets/base",
            "_view_module_version": "1.2.0",
            "_view_name": "LayoutView",
            "align_content": null,
            "align_items": null,
            "align_self": null,
            "border": null,
            "bottom": null,
            "display": null,
            "flex": null,
            "flex_flow": null,
            "grid_area": null,
            "grid_auto_columns": null,
            "grid_auto_flow": null,
            "grid_auto_rows": null,
            "grid_column": null,
            "grid_gap": null,
            "grid_row": null,
            "grid_template_areas": null,
            "grid_template_columns": null,
            "grid_template_rows": null,
            "height": null,
            "justify_content": null,
            "justify_items": null,
            "left": null,
            "margin": null,
            "max_height": null,
            "max_width": null,
            "min_height": null,
            "min_width": null,
            "object_fit": null,
            "object_position": null,
            "order": null,
            "overflow": null,
            "overflow_x": null,
            "overflow_y": null,
            "padding": null,
            "right": null,
            "top": null,
            "visibility": null,
            "width": null
          }
        },
        "d4496156815646d5849a60be71c8f600": {
          "model_module": "@jupyter-widgets/controls",
          "model_name": "ProgressStyleModel",
          "model_module_version": "1.5.0",
          "state": {
            "_model_module": "@jupyter-widgets/controls",
            "_model_module_version": "1.5.0",
            "_model_name": "ProgressStyleModel",
            "_view_count": null,
            "_view_module": "@jupyter-widgets/base",
            "_view_module_version": "1.2.0",
            "_view_name": "StyleView",
            "bar_color": null,
            "description_width": ""
          }
        },
        "beabb08850f044f28c186d2d06ff8325": {
          "model_module": "@jupyter-widgets/base",
          "model_name": "LayoutModel",
          "model_module_version": "1.2.0",
          "state": {
            "_model_module": "@jupyter-widgets/base",
            "_model_module_version": "1.2.0",
            "_model_name": "LayoutModel",
            "_view_count": null,
            "_view_module": "@jupyter-widgets/base",
            "_view_module_version": "1.2.0",
            "_view_name": "LayoutView",
            "align_content": null,
            "align_items": null,
            "align_self": null,
            "border": null,
            "bottom": null,
            "display": null,
            "flex": null,
            "flex_flow": null,
            "grid_area": null,
            "grid_auto_columns": null,
            "grid_auto_flow": null,
            "grid_auto_rows": null,
            "grid_column": null,
            "grid_gap": null,
            "grid_row": null,
            "grid_template_areas": null,
            "grid_template_columns": null,
            "grid_template_rows": null,
            "height": null,
            "justify_content": null,
            "justify_items": null,
            "left": null,
            "margin": null,
            "max_height": null,
            "max_width": null,
            "min_height": null,
            "min_width": null,
            "object_fit": null,
            "object_position": null,
            "order": null,
            "overflow": null,
            "overflow_x": null,
            "overflow_y": null,
            "padding": null,
            "right": null,
            "top": null,
            "visibility": null,
            "width": null
          }
        },
        "ff63dc96b984408b825756e536e14280": {
          "model_module": "@jupyter-widgets/controls",
          "model_name": "DescriptionStyleModel",
          "model_module_version": "1.5.0",
          "state": {
            "_model_module": "@jupyter-widgets/controls",
            "_model_module_version": "1.5.0",
            "_model_name": "DescriptionStyleModel",
            "_view_count": null,
            "_view_module": "@jupyter-widgets/base",
            "_view_module_version": "1.2.0",
            "_view_name": "StyleView",
            "description_width": ""
          }
        },
        "1382fd7deefd4c2cb0ffc06f5ed9b2d0": {
          "model_module": "@jupyter-widgets/controls",
          "model_name": "HBoxModel",
          "model_module_version": "1.5.0",
          "state": {
            "_dom_classes": [],
            "_model_module": "@jupyter-widgets/controls",
            "_model_module_version": "1.5.0",
            "_model_name": "HBoxModel",
            "_view_count": null,
            "_view_module": "@jupyter-widgets/controls",
            "_view_module_version": "1.5.0",
            "_view_name": "HBoxView",
            "box_style": "",
            "children": [
              "IPY_MODEL_95ad0e311ee74eaa940fbfb47a564706",
              "IPY_MODEL_605335a802cb44d7876e72facd20c6e5",
              "IPY_MODEL_7852f2e170e444acb2f142ac4a009194"
            ],
            "layout": "IPY_MODEL_46a97ea91a2b4895a93d06a2f7242f6a"
          }
        },
        "95ad0e311ee74eaa940fbfb47a564706": {
          "model_module": "@jupyter-widgets/controls",
          "model_name": "HTMLModel",
          "model_module_version": "1.5.0",
          "state": {
            "_dom_classes": [],
            "_model_module": "@jupyter-widgets/controls",
            "_model_module_version": "1.5.0",
            "_model_name": "HTMLModel",
            "_view_count": null,
            "_view_module": "@jupyter-widgets/controls",
            "_view_module_version": "1.5.0",
            "_view_name": "HTMLView",
            "description": "",
            "description_tooltip": null,
            "layout": "IPY_MODEL_23bf5f7d75ad451daae124bf6ef68aa3",
            "placeholder": "​",
            "style": "IPY_MODEL_6f9062a5974143bc913e9e34279047fb",
            "value": "Epoch 1: 100%"
          }
        },
        "605335a802cb44d7876e72facd20c6e5": {
          "model_module": "@jupyter-widgets/controls",
          "model_name": "FloatProgressModel",
          "model_module_version": "1.5.0",
          "state": {
            "_dom_classes": [],
            "_model_module": "@jupyter-widgets/controls",
            "_model_module_version": "1.5.0",
            "_model_name": "FloatProgressModel",
            "_view_count": null,
            "_view_module": "@jupyter-widgets/controls",
            "_view_module_version": "1.5.0",
            "_view_name": "ProgressView",
            "bar_style": "",
            "description": "",
            "description_tooltip": null,
            "layout": "IPY_MODEL_745f9f0bf1574228bdb77b9bd4c2bad1",
            "max": 30,
            "min": 0,
            "orientation": "horizontal",
            "style": "IPY_MODEL_f4461d1f31184134b9efa532a797abbe",
            "value": 30
          }
        },
        "7852f2e170e444acb2f142ac4a009194": {
          "model_module": "@jupyter-widgets/controls",
          "model_name": "HTMLModel",
          "model_module_version": "1.5.0",
          "state": {
            "_dom_classes": [],
            "_model_module": "@jupyter-widgets/controls",
            "_model_module_version": "1.5.0",
            "_model_name": "HTMLModel",
            "_view_count": null,
            "_view_module": "@jupyter-widgets/controls",
            "_view_module_version": "1.5.0",
            "_view_name": "HTMLView",
            "description": "",
            "description_tooltip": null,
            "layout": "IPY_MODEL_309a1297693d42988926cedb1f00f808",
            "placeholder": "​",
            "style": "IPY_MODEL_12f82d09f33f471580463d859e7f1d7a",
            "value": " 30/30 [00:19&lt;00:00,  1.82it/s]"
          }
        },
        "46a97ea91a2b4895a93d06a2f7242f6a": {
          "model_module": "@jupyter-widgets/base",
          "model_name": "LayoutModel",
          "model_module_version": "1.2.0",
          "state": {
            "_model_module": "@jupyter-widgets/base",
            "_model_module_version": "1.2.0",
            "_model_name": "LayoutModel",
            "_view_count": null,
            "_view_module": "@jupyter-widgets/base",
            "_view_module_version": "1.2.0",
            "_view_name": "LayoutView",
            "align_content": null,
            "align_items": null,
            "align_self": null,
            "border": null,
            "bottom": null,
            "display": null,
            "flex": null,
            "flex_flow": null,
            "grid_area": null,
            "grid_auto_columns": null,
            "grid_auto_flow": null,
            "grid_auto_rows": null,
            "grid_column": null,
            "grid_gap": null,
            "grid_row": null,
            "grid_template_areas": null,
            "grid_template_columns": null,
            "grid_template_rows": null,
            "height": null,
            "justify_content": null,
            "justify_items": null,
            "left": null,
            "margin": null,
            "max_height": null,
            "max_width": null,
            "min_height": null,
            "min_width": null,
            "object_fit": null,
            "object_position": null,
            "order": null,
            "overflow": null,
            "overflow_x": null,
            "overflow_y": null,
            "padding": null,
            "right": null,
            "top": null,
            "visibility": null,
            "width": null
          }
        },
        "23bf5f7d75ad451daae124bf6ef68aa3": {
          "model_module": "@jupyter-widgets/base",
          "model_name": "LayoutModel",
          "model_module_version": "1.2.0",
          "state": {
            "_model_module": "@jupyter-widgets/base",
            "_model_module_version": "1.2.0",
            "_model_name": "LayoutModel",
            "_view_count": null,
            "_view_module": "@jupyter-widgets/base",
            "_view_module_version": "1.2.0",
            "_view_name": "LayoutView",
            "align_content": null,
            "align_items": null,
            "align_self": null,
            "border": null,
            "bottom": null,
            "display": null,
            "flex": null,
            "flex_flow": null,
            "grid_area": null,
            "grid_auto_columns": null,
            "grid_auto_flow": null,
            "grid_auto_rows": null,
            "grid_column": null,
            "grid_gap": null,
            "grid_row": null,
            "grid_template_areas": null,
            "grid_template_columns": null,
            "grid_template_rows": null,
            "height": null,
            "justify_content": null,
            "justify_items": null,
            "left": null,
            "margin": null,
            "max_height": null,
            "max_width": null,
            "min_height": null,
            "min_width": null,
            "object_fit": null,
            "object_position": null,
            "order": null,
            "overflow": null,
            "overflow_x": null,
            "overflow_y": null,
            "padding": null,
            "right": null,
            "top": null,
            "visibility": null,
            "width": null
          }
        },
        "6f9062a5974143bc913e9e34279047fb": {
          "model_module": "@jupyter-widgets/controls",
          "model_name": "DescriptionStyleModel",
          "model_module_version": "1.5.0",
          "state": {
            "_model_module": "@jupyter-widgets/controls",
            "_model_module_version": "1.5.0",
            "_model_name": "DescriptionStyleModel",
            "_view_count": null,
            "_view_module": "@jupyter-widgets/base",
            "_view_module_version": "1.2.0",
            "_view_name": "StyleView",
            "description_width": ""
          }
        },
        "745f9f0bf1574228bdb77b9bd4c2bad1": {
          "model_module": "@jupyter-widgets/base",
          "model_name": "LayoutModel",
          "model_module_version": "1.2.0",
          "state": {
            "_model_module": "@jupyter-widgets/base",
            "_model_module_version": "1.2.0",
            "_model_name": "LayoutModel",
            "_view_count": null,
            "_view_module": "@jupyter-widgets/base",
            "_view_module_version": "1.2.0",
            "_view_name": "LayoutView",
            "align_content": null,
            "align_items": null,
            "align_self": null,
            "border": null,
            "bottom": null,
            "display": null,
            "flex": null,
            "flex_flow": null,
            "grid_area": null,
            "grid_auto_columns": null,
            "grid_auto_flow": null,
            "grid_auto_rows": null,
            "grid_column": null,
            "grid_gap": null,
            "grid_row": null,
            "grid_template_areas": null,
            "grid_template_columns": null,
            "grid_template_rows": null,
            "height": null,
            "justify_content": null,
            "justify_items": null,
            "left": null,
            "margin": null,
            "max_height": null,
            "max_width": null,
            "min_height": null,
            "min_width": null,
            "object_fit": null,
            "object_position": null,
            "order": null,
            "overflow": null,
            "overflow_x": null,
            "overflow_y": null,
            "padding": null,
            "right": null,
            "top": null,
            "visibility": null,
            "width": null
          }
        },
        "f4461d1f31184134b9efa532a797abbe": {
          "model_module": "@jupyter-widgets/controls",
          "model_name": "ProgressStyleModel",
          "model_module_version": "1.5.0",
          "state": {
            "_model_module": "@jupyter-widgets/controls",
            "_model_module_version": "1.5.0",
            "_model_name": "ProgressStyleModel",
            "_view_count": null,
            "_view_module": "@jupyter-widgets/base",
            "_view_module_version": "1.2.0",
            "_view_name": "StyleView",
            "bar_color": null,
            "description_width": ""
          }
        },
        "309a1297693d42988926cedb1f00f808": {
          "model_module": "@jupyter-widgets/base",
          "model_name": "LayoutModel",
          "model_module_version": "1.2.0",
          "state": {
            "_model_module": "@jupyter-widgets/base",
            "_model_module_version": "1.2.0",
            "_model_name": "LayoutModel",
            "_view_count": null,
            "_view_module": "@jupyter-widgets/base",
            "_view_module_version": "1.2.0",
            "_view_name": "LayoutView",
            "align_content": null,
            "align_items": null,
            "align_self": null,
            "border": null,
            "bottom": null,
            "display": null,
            "flex": null,
            "flex_flow": null,
            "grid_area": null,
            "grid_auto_columns": null,
            "grid_auto_flow": null,
            "grid_auto_rows": null,
            "grid_column": null,
            "grid_gap": null,
            "grid_row": null,
            "grid_template_areas": null,
            "grid_template_columns": null,
            "grid_template_rows": null,
            "height": null,
            "justify_content": null,
            "justify_items": null,
            "left": null,
            "margin": null,
            "max_height": null,
            "max_width": null,
            "min_height": null,
            "min_width": null,
            "object_fit": null,
            "object_position": null,
            "order": null,
            "overflow": null,
            "overflow_x": null,
            "overflow_y": null,
            "padding": null,
            "right": null,
            "top": null,
            "visibility": null,
            "width": null
          }
        },
        "12f82d09f33f471580463d859e7f1d7a": {
          "model_module": "@jupyter-widgets/controls",
          "model_name": "DescriptionStyleModel",
          "model_module_version": "1.5.0",
          "state": {
            "_model_module": "@jupyter-widgets/controls",
            "_model_module_version": "1.5.0",
            "_model_name": "DescriptionStyleModel",
            "_view_count": null,
            "_view_module": "@jupyter-widgets/base",
            "_view_module_version": "1.2.0",
            "_view_name": "StyleView",
            "description_width": ""
          }
        },
        "2bc6168551244d758ce420b57cf8dbca": {
          "model_module": "@jupyter-widgets/controls",
          "model_name": "HBoxModel",
          "model_module_version": "1.5.0",
          "state": {
            "_dom_classes": [],
            "_model_module": "@jupyter-widgets/controls",
            "_model_module_version": "1.5.0",
            "_model_name": "HBoxModel",
            "_view_count": null,
            "_view_module": "@jupyter-widgets/controls",
            "_view_module_version": "1.5.0",
            "_view_name": "HBoxView",
            "box_style": "",
            "children": [
              "IPY_MODEL_40b9f137826c44edb47baad3ea0075fb",
              "IPY_MODEL_338cfe2ea40a41f2a8a8f12e6db73fab",
              "IPY_MODEL_cb7168c294a54f74a0453372efc9a590"
            ],
            "layout": "IPY_MODEL_ed10ce7d72344da2b400260416c68999"
          }
        },
        "40b9f137826c44edb47baad3ea0075fb": {
          "model_module": "@jupyter-widgets/controls",
          "model_name": "HTMLModel",
          "model_module_version": "1.5.0",
          "state": {
            "_dom_classes": [],
            "_model_module": "@jupyter-widgets/controls",
            "_model_module_version": "1.5.0",
            "_model_name": "HTMLModel",
            "_view_count": null,
            "_view_module": "@jupyter-widgets/controls",
            "_view_module_version": "1.5.0",
            "_view_name": "HTMLView",
            "description": "",
            "description_tooltip": null,
            "layout": "IPY_MODEL_13ddac5e5cc44f28abb9552d0ec67fb4",
            "placeholder": "​",
            "style": "IPY_MODEL_65e1da6bd6e84872a654c9030e5f0d74",
            "value": "Epoch 1: "
          }
        },
        "338cfe2ea40a41f2a8a8f12e6db73fab": {
          "model_module": "@jupyter-widgets/controls",
          "model_name": "FloatProgressModel",
          "model_module_version": "1.5.0",
          "state": {
            "_dom_classes": [],
            "_model_module": "@jupyter-widgets/controls",
            "_model_module_version": "1.5.0",
            "_model_name": "FloatProgressModel",
            "_view_count": null,
            "_view_module": "@jupyter-widgets/controls",
            "_view_module_version": "1.5.0",
            "_view_name": "ProgressView",
            "bar_style": "",
            "description": "",
            "description_tooltip": null,
            "layout": "IPY_MODEL_67930a76563b49b99f51870ffd255ed3",
            "max": 137,
            "min": 0,
            "orientation": "horizontal",
            "style": "IPY_MODEL_36084f9ace854ce3876f6a5f325bd032",
            "value": 137
          }
        },
        "cb7168c294a54f74a0453372efc9a590": {
          "model_module": "@jupyter-widgets/controls",
          "model_name": "HTMLModel",
          "model_module_version": "1.5.0",
          "state": {
            "_dom_classes": [],
            "_model_module": "@jupyter-widgets/controls",
            "_model_module_version": "1.5.0",
            "_model_name": "HTMLModel",
            "_view_count": null,
            "_view_module": "@jupyter-widgets/controls",
            "_view_module_version": "1.5.0",
            "_view_name": "HTMLView",
            "description": "",
            "description_tooltip": null,
            "layout": "IPY_MODEL_762c8171fb064d92aa639d77f07b98dc",
            "placeholder": "​",
            "style": "IPY_MODEL_b52bea22c823432b8c960a7798445441",
            "value": " 17533/? [00:57&lt;00:00, 281.80it/s]"
          }
        },
        "ed10ce7d72344da2b400260416c68999": {
          "model_module": "@jupyter-widgets/base",
          "model_name": "LayoutModel",
          "model_module_version": "1.2.0",
          "state": {
            "_model_module": "@jupyter-widgets/base",
            "_model_module_version": "1.2.0",
            "_model_name": "LayoutModel",
            "_view_count": null,
            "_view_module": "@jupyter-widgets/base",
            "_view_module_version": "1.2.0",
            "_view_name": "LayoutView",
            "align_content": null,
            "align_items": null,
            "align_self": null,
            "border": null,
            "bottom": null,
            "display": null,
            "flex": null,
            "flex_flow": null,
            "grid_area": null,
            "grid_auto_columns": null,
            "grid_auto_flow": null,
            "grid_auto_rows": null,
            "grid_column": null,
            "grid_gap": null,
            "grid_row": null,
            "grid_template_areas": null,
            "grid_template_columns": null,
            "grid_template_rows": null,
            "height": null,
            "justify_content": null,
            "justify_items": null,
            "left": null,
            "margin": null,
            "max_height": null,
            "max_width": null,
            "min_height": null,
            "min_width": null,
            "object_fit": null,
            "object_position": null,
            "order": null,
            "overflow": null,
            "overflow_x": null,
            "overflow_y": null,
            "padding": null,
            "right": null,
            "top": null,
            "visibility": null,
            "width": null
          }
        },
        "13ddac5e5cc44f28abb9552d0ec67fb4": {
          "model_module": "@jupyter-widgets/base",
          "model_name": "LayoutModel",
          "model_module_version": "1.2.0",
          "state": {
            "_model_module": "@jupyter-widgets/base",
            "_model_module_version": "1.2.0",
            "_model_name": "LayoutModel",
            "_view_count": null,
            "_view_module": "@jupyter-widgets/base",
            "_view_module_version": "1.2.0",
            "_view_name": "LayoutView",
            "align_content": null,
            "align_items": null,
            "align_self": null,
            "border": null,
            "bottom": null,
            "display": null,
            "flex": null,
            "flex_flow": null,
            "grid_area": null,
            "grid_auto_columns": null,
            "grid_auto_flow": null,
            "grid_auto_rows": null,
            "grid_column": null,
            "grid_gap": null,
            "grid_row": null,
            "grid_template_areas": null,
            "grid_template_columns": null,
            "grid_template_rows": null,
            "height": null,
            "justify_content": null,
            "justify_items": null,
            "left": null,
            "margin": null,
            "max_height": null,
            "max_width": null,
            "min_height": null,
            "min_width": null,
            "object_fit": null,
            "object_position": null,
            "order": null,
            "overflow": null,
            "overflow_x": null,
            "overflow_y": null,
            "padding": null,
            "right": null,
            "top": null,
            "visibility": null,
            "width": null
          }
        },
        "65e1da6bd6e84872a654c9030e5f0d74": {
          "model_module": "@jupyter-widgets/controls",
          "model_name": "DescriptionStyleModel",
          "model_module_version": "1.5.0",
          "state": {
            "_model_module": "@jupyter-widgets/controls",
            "_model_module_version": "1.5.0",
            "_model_name": "DescriptionStyleModel",
            "_view_count": null,
            "_view_module": "@jupyter-widgets/base",
            "_view_module_version": "1.2.0",
            "_view_name": "StyleView",
            "description_width": ""
          }
        },
        "67930a76563b49b99f51870ffd255ed3": {
          "model_module": "@jupyter-widgets/base",
          "model_name": "LayoutModel",
          "model_module_version": "1.2.0",
          "state": {
            "_model_module": "@jupyter-widgets/base",
            "_model_module_version": "1.2.0",
            "_model_name": "LayoutModel",
            "_view_count": null,
            "_view_module": "@jupyter-widgets/base",
            "_view_module_version": "1.2.0",
            "_view_name": "LayoutView",
            "align_content": null,
            "align_items": null,
            "align_self": null,
            "border": null,
            "bottom": null,
            "display": null,
            "flex": null,
            "flex_flow": null,
            "grid_area": null,
            "grid_auto_columns": null,
            "grid_auto_flow": null,
            "grid_auto_rows": null,
            "grid_column": null,
            "grid_gap": null,
            "grid_row": null,
            "grid_template_areas": null,
            "grid_template_columns": null,
            "grid_template_rows": null,
            "height": null,
            "justify_content": null,
            "justify_items": null,
            "left": null,
            "margin": null,
            "max_height": null,
            "max_width": null,
            "min_height": null,
            "min_width": null,
            "object_fit": null,
            "object_position": null,
            "order": null,
            "overflow": null,
            "overflow_x": null,
            "overflow_y": null,
            "padding": null,
            "right": null,
            "top": null,
            "visibility": null,
            "width": null
          }
        },
        "36084f9ace854ce3876f6a5f325bd032": {
          "model_module": "@jupyter-widgets/controls",
          "model_name": "ProgressStyleModel",
          "model_module_version": "1.5.0",
          "state": {
            "_model_module": "@jupyter-widgets/controls",
            "_model_module_version": "1.5.0",
            "_model_name": "ProgressStyleModel",
            "_view_count": null,
            "_view_module": "@jupyter-widgets/base",
            "_view_module_version": "1.2.0",
            "_view_name": "StyleView",
            "bar_color": null,
            "description_width": ""
          }
        },
        "762c8171fb064d92aa639d77f07b98dc": {
          "model_module": "@jupyter-widgets/base",
          "model_name": "LayoutModel",
          "model_module_version": "1.2.0",
          "state": {
            "_model_module": "@jupyter-widgets/base",
            "_model_module_version": "1.2.0",
            "_model_name": "LayoutModel",
            "_view_count": null,
            "_view_module": "@jupyter-widgets/base",
            "_view_module_version": "1.2.0",
            "_view_name": "LayoutView",
            "align_content": null,
            "align_items": null,
            "align_self": null,
            "border": null,
            "bottom": null,
            "display": null,
            "flex": null,
            "flex_flow": null,
            "grid_area": null,
            "grid_auto_columns": null,
            "grid_auto_flow": null,
            "grid_auto_rows": null,
            "grid_column": null,
            "grid_gap": null,
            "grid_row": null,
            "grid_template_areas": null,
            "grid_template_columns": null,
            "grid_template_rows": null,
            "height": null,
            "justify_content": null,
            "justify_items": null,
            "left": null,
            "margin": null,
            "max_height": null,
            "max_width": null,
            "min_height": null,
            "min_width": null,
            "object_fit": null,
            "object_position": null,
            "order": null,
            "overflow": null,
            "overflow_x": null,
            "overflow_y": null,
            "padding": null,
            "right": null,
            "top": null,
            "visibility": null,
            "width": null
          }
        },
        "b52bea22c823432b8c960a7798445441": {
          "model_module": "@jupyter-widgets/controls",
          "model_name": "DescriptionStyleModel",
          "model_module_version": "1.5.0",
          "state": {
            "_model_module": "@jupyter-widgets/controls",
            "_model_module_version": "1.5.0",
            "_model_name": "DescriptionStyleModel",
            "_view_count": null,
            "_view_module": "@jupyter-widgets/base",
            "_view_module_version": "1.2.0",
            "_view_name": "StyleView",
            "description_width": ""
          }
        },
        "edd277e361b248e18701b59efe947b2b": {
          "model_module": "@jupyter-widgets/controls",
          "model_name": "HBoxModel",
          "model_module_version": "1.5.0",
          "state": {
            "_dom_classes": [],
            "_model_module": "@jupyter-widgets/controls",
            "_model_module_version": "1.5.0",
            "_model_name": "HBoxModel",
            "_view_count": null,
            "_view_module": "@jupyter-widgets/controls",
            "_view_module_version": "1.5.0",
            "_view_name": "HBoxView",
            "box_style": "",
            "children": [
              "IPY_MODEL_9aa95dbd869043e69068ff1880da5ec8",
              "IPY_MODEL_0e49f5b75bb344c4be76e0f13d1799a5",
              "IPY_MODEL_c861f442ed0540638489f77ae90443c2"
            ],
            "layout": "IPY_MODEL_58d3eccc63494117836885b9bb7fa9d8"
          }
        },
        "9aa95dbd869043e69068ff1880da5ec8": {
          "model_module": "@jupyter-widgets/controls",
          "model_name": "HTMLModel",
          "model_module_version": "1.5.0",
          "state": {
            "_dom_classes": [],
            "_model_module": "@jupyter-widgets/controls",
            "_model_module_version": "1.5.0",
            "_model_name": "HTMLModel",
            "_view_count": null,
            "_view_module": "@jupyter-widgets/controls",
            "_view_module_version": "1.5.0",
            "_view_name": "HTMLView",
            "description": "",
            "description_tooltip": null,
            "layout": "IPY_MODEL_bb1ff06d1f0e412d9aba7a1a71b5a833",
            "placeholder": "​",
            "style": "IPY_MODEL_19698f72d63a4c558e34ad4368d49c69",
            "value": "Epoch 1: 100%"
          }
        },
        "0e49f5b75bb344c4be76e0f13d1799a5": {
          "model_module": "@jupyter-widgets/controls",
          "model_name": "FloatProgressModel",
          "model_module_version": "1.5.0",
          "state": {
            "_dom_classes": [],
            "_model_module": "@jupyter-widgets/controls",
            "_model_module_version": "1.5.0",
            "_model_name": "FloatProgressModel",
            "_view_count": null,
            "_view_module": "@jupyter-widgets/controls",
            "_view_module_version": "1.5.0",
            "_view_name": "ProgressView",
            "bar_style": "",
            "description": "",
            "description_tooltip": null,
            "layout": "IPY_MODEL_247b16478f96466497c16e9f63d77dbd",
            "max": 30,
            "min": 0,
            "orientation": "horizontal",
            "style": "IPY_MODEL_7a3fa37e7a7b4d5099d4c49bc70123f0",
            "value": 30
          }
        },
        "c861f442ed0540638489f77ae90443c2": {
          "model_module": "@jupyter-widgets/controls",
          "model_name": "HTMLModel",
          "model_module_version": "1.5.0",
          "state": {
            "_dom_classes": [],
            "_model_module": "@jupyter-widgets/controls",
            "_model_module_version": "1.5.0",
            "_model_name": "HTMLModel",
            "_view_count": null,
            "_view_module": "@jupyter-widgets/controls",
            "_view_module_version": "1.5.0",
            "_view_name": "HTMLView",
            "description": "",
            "description_tooltip": null,
            "layout": "IPY_MODEL_9fd7b6fec7a044a8a59a0cfca1afe193",
            "placeholder": "​",
            "style": "IPY_MODEL_6230d7ebd5314add8946679e5ed80989",
            "value": " 30/30 [00:08&lt;00:00,  3.66it/s]"
          }
        },
        "58d3eccc63494117836885b9bb7fa9d8": {
          "model_module": "@jupyter-widgets/base",
          "model_name": "LayoutModel",
          "model_module_version": "1.2.0",
          "state": {
            "_model_module": "@jupyter-widgets/base",
            "_model_module_version": "1.2.0",
            "_model_name": "LayoutModel",
            "_view_count": null,
            "_view_module": "@jupyter-widgets/base",
            "_view_module_version": "1.2.0",
            "_view_name": "LayoutView",
            "align_content": null,
            "align_items": null,
            "align_self": null,
            "border": null,
            "bottom": null,
            "display": null,
            "flex": null,
            "flex_flow": null,
            "grid_area": null,
            "grid_auto_columns": null,
            "grid_auto_flow": null,
            "grid_auto_rows": null,
            "grid_column": null,
            "grid_gap": null,
            "grid_row": null,
            "grid_template_areas": null,
            "grid_template_columns": null,
            "grid_template_rows": null,
            "height": null,
            "justify_content": null,
            "justify_items": null,
            "left": null,
            "margin": null,
            "max_height": null,
            "max_width": null,
            "min_height": null,
            "min_width": null,
            "object_fit": null,
            "object_position": null,
            "order": null,
            "overflow": null,
            "overflow_x": null,
            "overflow_y": null,
            "padding": null,
            "right": null,
            "top": null,
            "visibility": null,
            "width": null
          }
        },
        "bb1ff06d1f0e412d9aba7a1a71b5a833": {
          "model_module": "@jupyter-widgets/base",
          "model_name": "LayoutModel",
          "model_module_version": "1.2.0",
          "state": {
            "_model_module": "@jupyter-widgets/base",
            "_model_module_version": "1.2.0",
            "_model_name": "LayoutModel",
            "_view_count": null,
            "_view_module": "@jupyter-widgets/base",
            "_view_module_version": "1.2.0",
            "_view_name": "LayoutView",
            "align_content": null,
            "align_items": null,
            "align_self": null,
            "border": null,
            "bottom": null,
            "display": null,
            "flex": null,
            "flex_flow": null,
            "grid_area": null,
            "grid_auto_columns": null,
            "grid_auto_flow": null,
            "grid_auto_rows": null,
            "grid_column": null,
            "grid_gap": null,
            "grid_row": null,
            "grid_template_areas": null,
            "grid_template_columns": null,
            "grid_template_rows": null,
            "height": null,
            "justify_content": null,
            "justify_items": null,
            "left": null,
            "margin": null,
            "max_height": null,
            "max_width": null,
            "min_height": null,
            "min_width": null,
            "object_fit": null,
            "object_position": null,
            "order": null,
            "overflow": null,
            "overflow_x": null,
            "overflow_y": null,
            "padding": null,
            "right": null,
            "top": null,
            "visibility": null,
            "width": null
          }
        },
        "19698f72d63a4c558e34ad4368d49c69": {
          "model_module": "@jupyter-widgets/controls",
          "model_name": "DescriptionStyleModel",
          "model_module_version": "1.5.0",
          "state": {
            "_model_module": "@jupyter-widgets/controls",
            "_model_module_version": "1.5.0",
            "_model_name": "DescriptionStyleModel",
            "_view_count": null,
            "_view_module": "@jupyter-widgets/base",
            "_view_module_version": "1.2.0",
            "_view_name": "StyleView",
            "description_width": ""
          }
        },
        "247b16478f96466497c16e9f63d77dbd": {
          "model_module": "@jupyter-widgets/base",
          "model_name": "LayoutModel",
          "model_module_version": "1.2.0",
          "state": {
            "_model_module": "@jupyter-widgets/base",
            "_model_module_version": "1.2.0",
            "_model_name": "LayoutModel",
            "_view_count": null,
            "_view_module": "@jupyter-widgets/base",
            "_view_module_version": "1.2.0",
            "_view_name": "LayoutView",
            "align_content": null,
            "align_items": null,
            "align_self": null,
            "border": null,
            "bottom": null,
            "display": null,
            "flex": null,
            "flex_flow": null,
            "grid_area": null,
            "grid_auto_columns": null,
            "grid_auto_flow": null,
            "grid_auto_rows": null,
            "grid_column": null,
            "grid_gap": null,
            "grid_row": null,
            "grid_template_areas": null,
            "grid_template_columns": null,
            "grid_template_rows": null,
            "height": null,
            "justify_content": null,
            "justify_items": null,
            "left": null,
            "margin": null,
            "max_height": null,
            "max_width": null,
            "min_height": null,
            "min_width": null,
            "object_fit": null,
            "object_position": null,
            "order": null,
            "overflow": null,
            "overflow_x": null,
            "overflow_y": null,
            "padding": null,
            "right": null,
            "top": null,
            "visibility": null,
            "width": null
          }
        },
        "7a3fa37e7a7b4d5099d4c49bc70123f0": {
          "model_module": "@jupyter-widgets/controls",
          "model_name": "ProgressStyleModel",
          "model_module_version": "1.5.0",
          "state": {
            "_model_module": "@jupyter-widgets/controls",
            "_model_module_version": "1.5.0",
            "_model_name": "ProgressStyleModel",
            "_view_count": null,
            "_view_module": "@jupyter-widgets/base",
            "_view_module_version": "1.2.0",
            "_view_name": "StyleView",
            "bar_color": null,
            "description_width": ""
          }
        },
        "9fd7b6fec7a044a8a59a0cfca1afe193": {
          "model_module": "@jupyter-widgets/base",
          "model_name": "LayoutModel",
          "model_module_version": "1.2.0",
          "state": {
            "_model_module": "@jupyter-widgets/base",
            "_model_module_version": "1.2.0",
            "_model_name": "LayoutModel",
            "_view_count": null,
            "_view_module": "@jupyter-widgets/base",
            "_view_module_version": "1.2.0",
            "_view_name": "LayoutView",
            "align_content": null,
            "align_items": null,
            "align_self": null,
            "border": null,
            "bottom": null,
            "display": null,
            "flex": null,
            "flex_flow": null,
            "grid_area": null,
            "grid_auto_columns": null,
            "grid_auto_flow": null,
            "grid_auto_rows": null,
            "grid_column": null,
            "grid_gap": null,
            "grid_row": null,
            "grid_template_areas": null,
            "grid_template_columns": null,
            "grid_template_rows": null,
            "height": null,
            "justify_content": null,
            "justify_items": null,
            "left": null,
            "margin": null,
            "max_height": null,
            "max_width": null,
            "min_height": null,
            "min_width": null,
            "object_fit": null,
            "object_position": null,
            "order": null,
            "overflow": null,
            "overflow_x": null,
            "overflow_y": null,
            "padding": null,
            "right": null,
            "top": null,
            "visibility": null,
            "width": null
          }
        },
        "6230d7ebd5314add8946679e5ed80989": {
          "model_module": "@jupyter-widgets/controls",
          "model_name": "DescriptionStyleModel",
          "model_module_version": "1.5.0",
          "state": {
            "_model_module": "@jupyter-widgets/controls",
            "_model_module_version": "1.5.0",
            "_model_name": "DescriptionStyleModel",
            "_view_count": null,
            "_view_module": "@jupyter-widgets/base",
            "_view_module_version": "1.2.0",
            "_view_name": "StyleView",
            "description_width": ""
          }
        }
      }
    },
    "colab": {
      "name": "nlp_hw2.ipynb",
      "provenance": [],
      "collapsed_sections": []
    },
    "accelerator": "GPU"
  },
  "nbformat": 4,
  "nbformat_minor": 0
}