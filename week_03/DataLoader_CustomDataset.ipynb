{
  "cells": [
    {
      "cell_type": "markdown",
      "metadata": {
        "id": "LqPBSzNtIQBx"
      },
      "source": [
        "# DataLoader in PyTorch"
      ]
    },
    {
      "cell_type": "markdown",
      "metadata": {
        "id": "T3jevMAFIQBz"
      },
      "source": [
        "__DataLoader__ -- класс в PyTorch, который позволяет итеративно проходить по датасету, отвечает за оркестрацию всего процесса работы с датасетом."
      ]
    },
    {
      "cell_type": "code",
      "source": [
        "DataLoader(\n",
        "  dataset, \n",
        "  batch_size=1, \n",
        "  shuffle=False, \n",
        "  sampler=None, \n",
        "  batch_sampler=None, \n",
        "  num_workers=0, \n",
        "  collate_fn=None, \n",
        "  pin_memory=False, \n",
        "  drop_last=False, \n",
        "  timeout=0, \n",
        "  worker_init_fn=None, \n",
        "  prefetch_factor=2, \n",
        "  persistent_workers=False\n",
        "  )"
      ],
      "metadata": {
        "id": "DKhLWaRUJPmw"
      },
      "execution_count": null,
      "outputs": []
    },
    {
      "cell_type": "markdown",
      "metadata": {
        "id": "g4ebHl45IQB0"
      },
      "source": [
        "- __dataset__ -- позволяет создать кастомные классы для работы с датасетом, где можно указать логику формирвоания батча.\n",
        "- __sampler__ -- определяет порядок элементов из датасета, которые будут идти в батч, то есть это список индексов, объединенных в батч. Удобно переопределять, когда обучение распредленное.  \n",
        "- __collate_fn__ -- позволяет сделать финальную предобработку над батчем данных. Если, например, в батч попали последовательности разных размеров, то после уже сбора батча, можно будет дополнить последовательности нулями относительно максимально длиной последовательности.\n",
        "\n"
      ]
    },
    {
      "cell_type": "markdown",
      "metadata": {
        "id": "MWALEyFcIQB0"
      },
      "source": [
        "## Custom Dataset"
      ]
    },
    {
      "cell_type": "code",
      "execution_count": 1,
      "metadata": {
        "id": "39ASiNogIQB1"
      },
      "outputs": [],
      "source": [
        "import pandas as pd\n",
        "import pickle\n",
        "import numpy as np\n",
        "from tqdm import tqdm_notebook\n",
        "\n",
        "from torch.utils.data import DataLoader, Dataset, Sampler\n",
        "from torch.utils.data.dataloader import default_collate"
      ]
    },
    {
      "cell_type": "code",
      "execution_count": 2,
      "metadata": {
        "id": "PgvNfUTHIQB1"
      },
      "outputs": [],
      "source": [
        "BATCH_SIZE = 128\n",
        "EPOCHS = 100"
      ]
    },
    {
      "cell_type": "code",
      "execution_count": 3,
      "metadata": {
        "id": "janhyHhGIQB2"
      },
      "outputs": [],
      "source": [
        "class CustomDataset(Dataset):\n",
        "    # Конструктор, где считаем датасет\n",
        "    def __init__(self, dataset_path):\n",
        "        with open(dataset_path, 'rb') as f:\n",
        "            self.X, self.target = pickle.load(f)\n",
        "\n",
        "        return\n",
        "    \n",
        "    # Переопределяем метод вычисление размера датасета\n",
        "    def __len__(self):\n",
        "        return len(self.X)\n",
        "\n",
        "    # Переопределяем метод,\n",
        "    # который достает по индексу наблюдение из датасет\n",
        "    def __getitem__(self, idx):\n",
        "        return self.X[idx], self.target[idx]"
      ]
    },
    {
      "cell_type": "markdown",
      "metadata": {
        "id": "roAkDm-MIQB2"
      },
      "source": [
        "## Custom Sampler"
      ]
    },
    {
      "cell_type": "code",
      "execution_count": 4,
      "metadata": {
        "id": "u1QwVaJzIQB3"
      },
      "outputs": [],
      "source": [
        "class CustomSampler(Sampler):\n",
        "\n",
        "    # Конструктор, где инициализируем индексы элементов\n",
        "    def __init__(self, data):\n",
        "        self.data_indices = np.arange(len(data))\n",
        "\n",
        "        shuffled_indices = np.random.permutation(len(self.data_indices))\n",
        "\n",
        "        self.data_indices = np.ascontiguousarray(self.data_indices)[shuffled_indices]\n",
        "\n",
        "        return\n",
        "\n",
        "    def __len__(self):\n",
        "        return len(self.data_indices)\n",
        "\n",
        "    # Возращает итератор,\n",
        "    # который будет возвращать индексы из перемешанного датасета\n",
        "    def __iter__(self):\n",
        "        return iter(self.data_indices)"
      ]
    },
    {
      "cell_type": "markdown",
      "metadata": {
        "id": "nDf1I8dVIQB3"
      },
      "source": [
        "## Custom collate_fn"
      ]
    },
    {
      "cell_type": "code",
      "execution_count": 5,
      "metadata": {
        "id": "nPqThVRQIQB4"
      },
      "outputs": [],
      "source": [
        "def collate(batch):\n",
        "    return default_collate(batch)"
      ]
    },
    {
      "cell_type": "code",
      "execution_count": 6,
      "metadata": {
        "id": "zo9JBh3XIQB4"
      },
      "outputs": [],
      "source": [
        "def create_data_loader(train_dataset, train_sampler,\n",
        "                       test_dataset, test_sampler):\n",
        "    train_loader = DataLoader(dataset=train_dataset, sampler=train_sampler,\n",
        "                              batch_size=BATCH_SIZE, collate_fn=collate,\n",
        "                              shuffle=False)\n",
        "\n",
        "    test_loader = DataLoader(dataset=test_dataset, sampler=test_sampler,\n",
        "                             batch_size=BATCH_SIZE, collate_fn=collate,\n",
        "                             shuffle=False)\n",
        "\n",
        "    return train_loader, test_loader"
      ]
    },
    {
      "cell_type": "code",
      "source": [
        "!git clone https://github.com/RiskModellingResearch/DeepLearning_Winter22.git"
      ],
      "metadata": {
        "colab": {
          "base_uri": "https://localhost:8080/"
        },
        "id": "IhOJHR7fQRoF",
        "outputId": "ed6530cf-dc49-46a9-be5c-bd600c219953"
      },
      "execution_count": 7,
      "outputs": [
        {
          "output_type": "stream",
          "name": "stdout",
          "text": [
            "Cloning into 'DeepLearning_Winter22'...\n",
            "remote: Enumerating objects: 54, done.\u001b[K\n",
            "remote: Counting objects: 100% (54/54), done.\u001b[K\n",
            "remote: Compressing objects: 100% (52/52), done.\u001b[K\n",
            "remote: Total 54 (delta 12), reused 0 (delta 0), pack-reused 0\u001b[K\n",
            "Unpacking objects: 100% (54/54), done.\n"
          ]
        }
      ]
    },
    {
      "cell_type": "code",
      "execution_count": 7,
      "metadata": {
        "id": "2gCte_KbIQB5"
      },
      "outputs": [],
      "source": [
        "# Создаем объекты Custom Dataset и Sampler\n",
        "train_ds = CustomDataset('DeepLearning_Winter22/week_03/data/X_train_cat.pickle')\n",
        "train_sampler = CustomSampler(train_ds.X)\n",
        "\n",
        "test_ds = CustomDataset('DeepLearning_Winter22/week_03/data/X_test_cat.pickle')\n",
        "test_sampler = CustomSampler(test_ds.X)"
      ]
    },
    {
      "cell_type": "code",
      "execution_count": 8,
      "metadata": {
        "id": "JH_jYjZ9IQB5"
      },
      "outputs": [],
      "source": [
        "train_loader, test_loader = create_data_loader(train_ds, train_sampler, \n",
        "                                               test_ds, test_sampler)"
      ]
    },
    {
      "cell_type": "code",
      "execution_count": 9,
      "metadata": {
        "id": "UdmzZ2z8IQB5"
      },
      "outputs": [],
      "source": [
        "def run_train():\n",
        "    for epoch in tqdm_notebook(range(EPOCHS)):\n",
        "        for features, labels in train_loader:\n",
        "            pass\n",
        "    return"
      ]
    },
    {
      "cell_type": "code",
      "execution_count": 10,
      "metadata": {
        "colab": {
          "base_uri": "https://localhost:8080/",
          "height": 120,
          "referenced_widgets": [
            "c0e2ca85360f482eb3cb460a510e60d4",
            "3e41ff8ff2e74c7898dfa95725feeab1",
            "b46328ea3e874dafa625d7ae7283887c",
            "3399527f06834664b2f67d19b3e6e671",
            "d23b59c0df9d4ae6b916f08613eb870c",
            "827241f34f9740b2a98d523731132eb2",
            "9bd878d872e64b1986532991da72adf1",
            "1d3c973b92ac4d87919551e83abcab74",
            "84ab8c39b3e940a88b36c65614603020",
            "08fc1344d3ae4aa2be9a17d55b88a09b",
            "202873fe9e7945a88c7f1fec63e68b78"
          ]
        },
        "id": "eaSsg2z3IQB6",
        "outputId": "33ce7c0c-87d5-42e3-f214-2cf7cde2b8d5"
      },
      "outputs": [
        {
          "output_type": "stream",
          "name": "stderr",
          "text": [
            "/usr/local/lib/python3.7/dist-packages/ipykernel_launcher.py:2: TqdmDeprecationWarning: This function will be removed in tqdm==5.0.0\n",
            "Please use `tqdm.notebook.tqdm` instead of `tqdm.tqdm_notebook`\n",
            "  \n"
          ]
        },
        {
          "output_type": "display_data",
          "data": {
            "application/vnd.jupyter.widget-view+json": {
              "model_id": "c0e2ca85360f482eb3cb460a510e60d4",
              "version_minor": 0,
              "version_major": 2
            },
            "text/plain": [
              "  0%|          | 0/100 [00:00<?, ?it/s]"
            ]
          },
          "metadata": {}
        }
      ],
      "source": [
        "run_train()"
      ]
    },
    {
      "cell_type": "code",
      "source": [
        ""
      ],
      "metadata": {
        "id": "7EEhnP7wQeJI"
      },
      "execution_count": null,
      "outputs": []
    }
  ],
  "metadata": {
    "kernelspec": {
      "display_name": "Python 3",
      "language": "python",
      "name": "python3"
    },
    "language_info": {
      "codemirror_mode": {
        "name": "ipython",
        "version": 3
      },
      "file_extension": ".py",
      "mimetype": "text/x-python",
      "name": "python",
      "nbconvert_exporter": "python",
      "pygments_lexer": "ipython3",
      "version": "3.8.5"
    },
    "colab": {
      "name": "DataLoader - CustomDataset.ipynb",
      "provenance": [],
      "collapsed_sections": []
    },
    "widgets": {
      "application/vnd.jupyter.widget-state+json": {
        "c0e2ca85360f482eb3cb460a510e60d4": {
          "model_module": "@jupyter-widgets/controls",
          "model_name": "HBoxModel",
          "model_module_version": "1.5.0",
          "state": {
            "_view_name": "HBoxView",
            "_dom_classes": [],
            "_model_name": "HBoxModel",
            "_view_module": "@jupyter-widgets/controls",
            "_model_module_version": "1.5.0",
            "_view_count": null,
            "_view_module_version": "1.5.0",
            "box_style": "",
            "layout": "IPY_MODEL_3e41ff8ff2e74c7898dfa95725feeab1",
            "_model_module": "@jupyter-widgets/controls",
            "children": [
              "IPY_MODEL_b46328ea3e874dafa625d7ae7283887c",
              "IPY_MODEL_3399527f06834664b2f67d19b3e6e671",
              "IPY_MODEL_d23b59c0df9d4ae6b916f08613eb870c"
            ]
          }
        },
        "3e41ff8ff2e74c7898dfa95725feeab1": {
          "model_module": "@jupyter-widgets/base",
          "model_name": "LayoutModel",
          "model_module_version": "1.2.0",
          "state": {
            "_view_name": "LayoutView",
            "grid_template_rows": null,
            "right": null,
            "justify_content": null,
            "_view_module": "@jupyter-widgets/base",
            "overflow": null,
            "_model_module_version": "1.2.0",
            "_view_count": null,
            "flex_flow": null,
            "width": null,
            "min_width": null,
            "border": null,
            "align_items": null,
            "bottom": null,
            "_model_module": "@jupyter-widgets/base",
            "top": null,
            "grid_column": null,
            "overflow_y": null,
            "overflow_x": null,
            "grid_auto_flow": null,
            "grid_area": null,
            "grid_template_columns": null,
            "flex": null,
            "_model_name": "LayoutModel",
            "justify_items": null,
            "grid_row": null,
            "max_height": null,
            "align_content": null,
            "visibility": null,
            "align_self": null,
            "height": null,
            "min_height": null,
            "padding": null,
            "grid_auto_rows": null,
            "grid_gap": null,
            "max_width": null,
            "order": null,
            "_view_module_version": "1.2.0",
            "grid_template_areas": null,
            "object_position": null,
            "object_fit": null,
            "grid_auto_columns": null,
            "margin": null,
            "display": null,
            "left": null
          }
        },
        "b46328ea3e874dafa625d7ae7283887c": {
          "model_module": "@jupyter-widgets/controls",
          "model_name": "HTMLModel",
          "model_module_version": "1.5.0",
          "state": {
            "_view_name": "HTMLView",
            "style": "IPY_MODEL_827241f34f9740b2a98d523731132eb2",
            "_dom_classes": [],
            "description": "",
            "_model_name": "HTMLModel",
            "placeholder": "​",
            "_view_module": "@jupyter-widgets/controls",
            "_model_module_version": "1.5.0",
            "value": "100%",
            "_view_count": null,
            "_view_module_version": "1.5.0",
            "description_tooltip": null,
            "_model_module": "@jupyter-widgets/controls",
            "layout": "IPY_MODEL_9bd878d872e64b1986532991da72adf1"
          }
        },
        "3399527f06834664b2f67d19b3e6e671": {
          "model_module": "@jupyter-widgets/controls",
          "model_name": "FloatProgressModel",
          "model_module_version": "1.5.0",
          "state": {
            "_view_name": "ProgressView",
            "style": "IPY_MODEL_1d3c973b92ac4d87919551e83abcab74",
            "_dom_classes": [],
            "description": "",
            "_model_name": "FloatProgressModel",
            "bar_style": "success",
            "max": 100,
            "_view_module": "@jupyter-widgets/controls",
            "_model_module_version": "1.5.0",
            "value": 100,
            "_view_count": null,
            "_view_module_version": "1.5.0",
            "orientation": "horizontal",
            "min": 0,
            "description_tooltip": null,
            "_model_module": "@jupyter-widgets/controls",
            "layout": "IPY_MODEL_84ab8c39b3e940a88b36c65614603020"
          }
        },
        "d23b59c0df9d4ae6b916f08613eb870c": {
          "model_module": "@jupyter-widgets/controls",
          "model_name": "HTMLModel",
          "model_module_version": "1.5.0",
          "state": {
            "_view_name": "HTMLView",
            "style": "IPY_MODEL_08fc1344d3ae4aa2be9a17d55b88a09b",
            "_dom_classes": [],
            "description": "",
            "_model_name": "HTMLModel",
            "placeholder": "​",
            "_view_module": "@jupyter-widgets/controls",
            "_model_module_version": "1.5.0",
            "value": " 100/100 [00:09&lt;00:00, 10.66it/s]",
            "_view_count": null,
            "_view_module_version": "1.5.0",
            "description_tooltip": null,
            "_model_module": "@jupyter-widgets/controls",
            "layout": "IPY_MODEL_202873fe9e7945a88c7f1fec63e68b78"
          }
        },
        "827241f34f9740b2a98d523731132eb2": {
          "model_module": "@jupyter-widgets/controls",
          "model_name": "DescriptionStyleModel",
          "model_module_version": "1.5.0",
          "state": {
            "_view_name": "StyleView",
            "_model_name": "DescriptionStyleModel",
            "description_width": "",
            "_view_module": "@jupyter-widgets/base",
            "_model_module_version": "1.5.0",
            "_view_count": null,
            "_view_module_version": "1.2.0",
            "_model_module": "@jupyter-widgets/controls"
          }
        },
        "9bd878d872e64b1986532991da72adf1": {
          "model_module": "@jupyter-widgets/base",
          "model_name": "LayoutModel",
          "model_module_version": "1.2.0",
          "state": {
            "_view_name": "LayoutView",
            "grid_template_rows": null,
            "right": null,
            "justify_content": null,
            "_view_module": "@jupyter-widgets/base",
            "overflow": null,
            "_model_module_version": "1.2.0",
            "_view_count": null,
            "flex_flow": null,
            "width": null,
            "min_width": null,
            "border": null,
            "align_items": null,
            "bottom": null,
            "_model_module": "@jupyter-widgets/base",
            "top": null,
            "grid_column": null,
            "overflow_y": null,
            "overflow_x": null,
            "grid_auto_flow": null,
            "grid_area": null,
            "grid_template_columns": null,
            "flex": null,
            "_model_name": "LayoutModel",
            "justify_items": null,
            "grid_row": null,
            "max_height": null,
            "align_content": null,
            "visibility": null,
            "align_self": null,
            "height": null,
            "min_height": null,
            "padding": null,
            "grid_auto_rows": null,
            "grid_gap": null,
            "max_width": null,
            "order": null,
            "_view_module_version": "1.2.0",
            "grid_template_areas": null,
            "object_position": null,
            "object_fit": null,
            "grid_auto_columns": null,
            "margin": null,
            "display": null,
            "left": null
          }
        },
        "1d3c973b92ac4d87919551e83abcab74": {
          "model_module": "@jupyter-widgets/controls",
          "model_name": "ProgressStyleModel",
          "model_module_version": "1.5.0",
          "state": {
            "_view_name": "StyleView",
            "_model_name": "ProgressStyleModel",
            "description_width": "",
            "_view_module": "@jupyter-widgets/base",
            "_model_module_version": "1.5.0",
            "_view_count": null,
            "_view_module_version": "1.2.0",
            "bar_color": null,
            "_model_module": "@jupyter-widgets/controls"
          }
        },
        "84ab8c39b3e940a88b36c65614603020": {
          "model_module": "@jupyter-widgets/base",
          "model_name": "LayoutModel",
          "model_module_version": "1.2.0",
          "state": {
            "_view_name": "LayoutView",
            "grid_template_rows": null,
            "right": null,
            "justify_content": null,
            "_view_module": "@jupyter-widgets/base",
            "overflow": null,
            "_model_module_version": "1.2.0",
            "_view_count": null,
            "flex_flow": null,
            "width": null,
            "min_width": null,
            "border": null,
            "align_items": null,
            "bottom": null,
            "_model_module": "@jupyter-widgets/base",
            "top": null,
            "grid_column": null,
            "overflow_y": null,
            "overflow_x": null,
            "grid_auto_flow": null,
            "grid_area": null,
            "grid_template_columns": null,
            "flex": null,
            "_model_name": "LayoutModel",
            "justify_items": null,
            "grid_row": null,
            "max_height": null,
            "align_content": null,
            "visibility": null,
            "align_self": null,
            "height": null,
            "min_height": null,
            "padding": null,
            "grid_auto_rows": null,
            "grid_gap": null,
            "max_width": null,
            "order": null,
            "_view_module_version": "1.2.0",
            "grid_template_areas": null,
            "object_position": null,
            "object_fit": null,
            "grid_auto_columns": null,
            "margin": null,
            "display": null,
            "left": null
          }
        },
        "08fc1344d3ae4aa2be9a17d55b88a09b": {
          "model_module": "@jupyter-widgets/controls",
          "model_name": "DescriptionStyleModel",
          "model_module_version": "1.5.0",
          "state": {
            "_view_name": "StyleView",
            "_model_name": "DescriptionStyleModel",
            "description_width": "",
            "_view_module": "@jupyter-widgets/base",
            "_model_module_version": "1.5.0",
            "_view_count": null,
            "_view_module_version": "1.2.0",
            "_model_module": "@jupyter-widgets/controls"
          }
        },
        "202873fe9e7945a88c7f1fec63e68b78": {
          "model_module": "@jupyter-widgets/base",
          "model_name": "LayoutModel",
          "model_module_version": "1.2.0",
          "state": {
            "_view_name": "LayoutView",
            "grid_template_rows": null,
            "right": null,
            "justify_content": null,
            "_view_module": "@jupyter-widgets/base",
            "overflow": null,
            "_model_module_version": "1.2.0",
            "_view_count": null,
            "flex_flow": null,
            "width": null,
            "min_width": null,
            "border": null,
            "align_items": null,
            "bottom": null,
            "_model_module": "@jupyter-widgets/base",
            "top": null,
            "grid_column": null,
            "overflow_y": null,
            "overflow_x": null,
            "grid_auto_flow": null,
            "grid_area": null,
            "grid_template_columns": null,
            "flex": null,
            "_model_name": "LayoutModel",
            "justify_items": null,
            "grid_row": null,
            "max_height": null,
            "align_content": null,
            "visibility": null,
            "align_self": null,
            "height": null,
            "min_height": null,
            "padding": null,
            "grid_auto_rows": null,
            "grid_gap": null,
            "max_width": null,
            "order": null,
            "_view_module_version": "1.2.0",
            "grid_template_areas": null,
            "object_position": null,
            "object_fit": null,
            "grid_auto_columns": null,
            "margin": null,
            "display": null,
            "left": null
          }
        }
      }
    }
  },
  "nbformat": 4,
  "nbformat_minor": 0
}